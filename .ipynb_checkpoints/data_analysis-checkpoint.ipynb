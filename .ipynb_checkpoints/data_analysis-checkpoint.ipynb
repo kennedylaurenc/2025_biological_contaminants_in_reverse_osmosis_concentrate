{
 "cells": [
  {
   "cell_type": "markdown",
   "metadata": {
    "toc-hr-collapsed": false
   },
   "source": [
    "# RO Concentrate (PRIVATE -- connected to google Docs)"
   ]
  },
  {
   "cell_type": "markdown",
   "metadata": {
    "toc-hr-collapsed": true
   },
   "source": [
    "This was created in August 2025 to analyze data generated abotu potable reuse disposal of RO concentrate globally"
   ]
  },
  {
   "cell_type": "markdown",
   "metadata": {},
   "source": [
    "## 1. Install & load R packages"
   ]
  },
  {
   "cell_type": "code",
   "execution_count": 1,
   "metadata": {},
   "outputs": [],
   "source": [
    "# install.packages(c(\"ggplot2\", \"dplyr\",\"ggpubr\", \"stargazer\", \"GGally\",\"viridis\",\"knitr\",\"readr\",\"tidyr\"))"
   ]
  },
  {
   "cell_type": "code",
   "execution_count": 2,
   "metadata": {},
   "outputs": [
    {
     "name": "stderr",
     "output_type": "stream",
     "text": [
      "\n",
      "Attaching package: ‘scales’\n",
      "\n",
      "\n",
      "The following object is masked from ‘package:readr’:\n",
      "\n",
      "    col_factor\n",
      "\n",
      "\n",
      "Loading required package: viridisLite\n",
      "\n",
      "\n",
      "Attaching package: ‘viridis’\n",
      "\n",
      "\n",
      "The following object is masked from ‘package:scales’:\n",
      "\n",
      "    viridis_pal\n",
      "\n",
      "\n",
      "\n",
      "Attaching package: ‘dplyr’\n",
      "\n",
      "\n",
      "The following objects are masked from ‘package:stats’:\n",
      "\n",
      "    filter, lag\n",
      "\n",
      "\n",
      "The following objects are masked from ‘package:base’:\n",
      "\n",
      "    intersect, setdiff, setequal, union\n",
      "\n",
      "\n",
      "\n",
      "Please cite as: \n",
      "\n",
      "\n",
      " Hlavac, Marek (2022). stargazer: Well-Formatted Regression and Summary Statistics Tables.\n",
      "\n",
      " R package version 5.2.3. https://CRAN.R-project.org/package=stargazer \n",
      "\n",
      "\n",
      "\n",
      "Attaching package: ‘googledrive’\n",
      "\n",
      "\n",
      "The following objects are masked from ‘package:googlesheets4’:\n",
      "\n",
      "    request_generate, request_make\n",
      "\n",
      "\n"
     ]
    }
   ],
   "source": [
    "#data manipulation/exploration\n",
    "library(readr)\n",
    "library(tidyr)\n",
    "library(scales)\n",
    "# library(GGally)\n",
    "\n",
    "# plotting\n",
    "library(ggplot2)\n",
    "library(viridis)\n",
    "library(ggpubr)\n",
    "\n",
    "#tables\n",
    "library(dplyr)\n",
    "library(stargazer)\n",
    "\n",
    "#cite\n",
    "# library(knitr)\n",
    "\n",
    "#access google sheet\n",
    "library(googlesheets4)\n",
    "library(googledrive)\n",
    "\n",
    "options(jupyter.plot_mimetypes = c(\"text/plain\",\"image/png\"))"
   ]
  },
  {
   "cell_type": "code",
   "execution_count": 3,
   "metadata": {},
   "outputs": [],
   "source": [
    "#file for outputs\n",
    "path=paste(getwd(),\"/Figures_and_tables/\", sep=\"\")\n",
    "\n",
    "#sizing in mm based on https://www.elsevier.com/authors/author-schemas/artwork-and-media-instructions/artwork-sizing\n",
    "min_w=30\n",
    "single.col_w= 90\n",
    "half.col_w= 140\n",
    "max_w= 190\n",
    "max_h=240\n"
   ]
  },
  {
   "cell_type": "markdown",
   "metadata": {},
   "source": [
    "## 2. Load & wrangle dataset"
   ]
  },
  {
   "cell_type": "code",
   "execution_count": 4,
   "metadata": {},
   "outputs": [
    {
     "name": "stderr",
     "output_type": "stream",
     "text": [
      "Auto-refreshing stale OAuth token.\n",
      "\n",
      "\u001b[32m✔\u001b[39m Reading from \u001b[36mESPI Kennedy Early Career - Perspective\u001b[39m.\n",
      "\n",
      "\u001b[32m✔\u001b[39m Range '\u001b[33m'final_table'!A1:AH66\u001b[39m'.\n",
      "\n"
     ]
    }
   ],
   "source": [
    "#first might need to cache tolken. run gs4_auth() in terminal\n",
    "# https://googlesheets4.tidyverse.org/reference/gs4_auth.html\n",
    "# https://gargle.r-lib.org/reference/gargle_options.html\n",
    "gs4_auth(\n",
    "  email = \"kennedylaurenc@gmail.com\",\n",
    "  path = NULL,\n",
    "  subject = NULL,\n",
    "  scopes = \"drive\",\n",
    "  cache = gargle::gargle_oauth_cache(),\n",
    "  use_oob = gargle::gargle_oob_default(),\n",
    "  token = NULL\n",
    ")\n",
    "roc_all<-read_sheet(\"https://docs.google.com/spreadsheets/d/14dY3ZV-kCqvujx_lIzITE3cAAr9RSENLqmApJJIuni4/edit?gid=645864758#gid=645864758\", sheet=\"final_table\", range=\"A1:AH66\")"
   ]
  },
  {
   "cell_type": "code",
   "execution_count": 5,
   "metadata": {},
   "outputs": [
    {
     "data": {
      "text/html": [
       "<table class=\"dataframe\">\n",
       "<caption>A tibble: 6 × 14</caption>\n",
       "<thead>\n",
       "\t<tr><th scope=col>project</th><th scope=col>operational</th><th scope=col>city_AWTP</th><th scope=col>inland_coastal_40mi</th><th scope=col>state_region_provence</th><th scope=col>country</th><th scope=col>detail_PR_type</th><th scope=col>awtp_contains_RO</th><th scope=col>max_treatment_per_facility_RO</th><th scope=col>wwtp_effluent</th><th scope=col>advanced_treatment_detail_RO</th><th scope=col>upstream_RO</th><th scope=col>concentrate_treatment</th><th scope=col>RO_concentrate_management</th></tr>\n",
       "\t<tr><th scope=col>&lt;chr&gt;</th><th scope=col>&lt;chr&gt;</th><th scope=col>&lt;chr&gt;</th><th scope=col>&lt;chr&gt;</th><th scope=col>&lt;chr&gt;</th><th scope=col>&lt;chr&gt;</th><th scope=col>&lt;chr&gt;</th><th scope=col>&lt;chr&gt;</th><th scope=col>&lt;chr&gt;</th><th scope=col>&lt;chr&gt;</th><th scope=col>&lt;chr&gt;</th><th scope=col>&lt;chr&gt;</th><th scope=col>&lt;chr&gt;</th><th scope=col>&lt;chr&gt;</th></tr>\n",
       "</thead>\n",
       "<tbody>\n",
       "\t<tr><td>Palm Beach County RECAP                                                  </td><td>N</td><td>Palm Beach   </td><td>Coastal</td><td>FL           </td><td>USA         </td><td>groundwater</td><td>Y</td><td>secondary, advanced, groundwater augmentation</td><td>secondary</td><td>MF, RO, UV/AOP (unspecified)                                        </td><td>MF                      </td><td>none reported                    </td><td>deep well injection                 </td></tr>\n",
       "\t<tr><td>Dominguez Gap Barrier Terminal Island, City of Los Angeles long Beach 3-4</td><td>Y</td><td>Los Angeles  </td><td>Coastal</td><td>CA           </td><td>USA         </td><td>groundwater</td><td>Y</td><td>tertiary, advanced, groundwater augmentation </td><td>tertiary </td><td>MF, RO, UV/HOCl                                                     </td><td>MF                      </td><td>none reported                    </td><td>deep well injection; ocean discharge</td></tr>\n",
       "\t<tr><td>Perth Groundwater Replenishment Scheme                                   </td><td>Y</td><td>Perth        </td><td>Coastal</td><td>Perth        </td><td>Australia   </td><td>groundwater</td><td>Y</td><td>secondary, advanced, groundwater augmentation</td><td>secondary</td><td>UF, RO, UV                                                          </td><td>UF                      </td><td>neutralization tank (unspecified)</td><td>ocean discharge                     </td></tr>\n",
       "\t<tr><td>Aquaduin formerly Intermunicipal Water Company from the Veurne Region    </td><td>Y</td><td>Koksijde     </td><td>Coastal</td><td>West Flanders</td><td>Belgium     </td><td>groundwater</td><td>Y</td><td>secondary, advanced, groundwater augmentation</td><td>secondary</td><td>HOCl, UF, cartridge filtration, RO, UV/H2O2                         </td><td>UF, cartridge filtration</td><td>constructed wetland              </td><td>ocean discharge                     </td></tr>\n",
       "\t<tr><td>NEWater                                                                  </td><td>Y</td><td>Singapore    </td><td>Coastal</td><td>NA           </td><td>Singapore   </td><td>reservoir  </td><td>Y</td><td>secondary, advanced, reservoir augmentation  </td><td>secondary</td><td>HOCl, MF, RO, cartridge filtration, UV, HOCl                        </td><td>MF                      </td><td>none reported                    </td><td>ocean discharge                     </td></tr>\n",
       "\t<tr><td>Beaufort West Municipality                                               </td><td>Y</td><td>Beaufort West</td><td>Inland </td><td>Western Cape </td><td>South Africa</td><td>reservoir  </td><td>Y</td><td>secondary, advanced, reservoir augmentation  </td><td>secondary</td><td>HOCl, settling, coagulation, media filtration, UF, RO, UV/H2O2, HOCl</td><td>UF                      </td><td>maturation pond                  </td><td>unknown                             </td></tr>\n",
       "</tbody>\n",
       "</table>\n"
      ],
      "text/latex": [
       "A tibble: 6 × 14\n",
       "\\begin{tabular}{llllllllllllll}\n",
       " project & operational & city\\_AWTP & inland\\_coastal\\_40mi & state\\_region\\_provence & country & detail\\_PR\\_type & awtp\\_contains\\_RO & max\\_treatment\\_per\\_facility\\_RO & wwtp\\_effluent & advanced\\_treatment\\_detail\\_RO & upstream\\_RO & concentrate\\_treatment & RO\\_concentrate\\_management\\\\\n",
       " <chr> & <chr> & <chr> & <chr> & <chr> & <chr> & <chr> & <chr> & <chr> & <chr> & <chr> & <chr> & <chr> & <chr>\\\\\n",
       "\\hline\n",
       "\t Palm Beach County RECAP                                                   & N & Palm Beach    & Coastal & FL            & USA          & groundwater & Y & secondary, advanced, groundwater augmentation & secondary & MF, RO, UV/AOP (unspecified)                                         & MF                       & none reported                     & deep well injection                 \\\\\n",
       "\t Dominguez Gap Barrier Terminal Island, City of Los Angeles long Beach 3-4 & Y & Los Angeles   & Coastal & CA            & USA          & groundwater & Y & tertiary, advanced, groundwater augmentation  & tertiary  & MF, RO, UV/HOCl                                                      & MF                       & none reported                     & deep well injection; ocean discharge\\\\\n",
       "\t Perth Groundwater Replenishment Scheme                                    & Y & Perth         & Coastal & Perth         & Australia    & groundwater & Y & secondary, advanced, groundwater augmentation & secondary & UF, RO, UV                                                           & UF                       & neutralization tank (unspecified) & ocean discharge                     \\\\\n",
       "\t Aquaduin formerly Intermunicipal Water Company from the Veurne Region     & Y & Koksijde      & Coastal & West Flanders & Belgium      & groundwater & Y & secondary, advanced, groundwater augmentation & secondary & HOCl, UF, cartridge filtration, RO, UV/H2O2                          & UF, cartridge filtration & constructed wetland               & ocean discharge                     \\\\\n",
       "\t NEWater                                                                   & Y & Singapore     & Coastal & NA            & Singapore    & reservoir   & Y & secondary, advanced, reservoir augmentation   & secondary & HOCl, MF, RO, cartridge filtration, UV, HOCl                         & MF                       & none reported                     & ocean discharge                     \\\\\n",
       "\t Beaufort West Municipality                                                & Y & Beaufort West & Inland  & Western Cape  & South Africa & reservoir   & Y & secondary, advanced, reservoir augmentation   & secondary & HOCl, settling, coagulation, media filtration, UF, RO, UV/H2O2, HOCl & UF                       & maturation pond                   & unknown                             \\\\\n",
       "\\end{tabular}\n"
      ],
      "text/markdown": [
       "\n",
       "A tibble: 6 × 14\n",
       "\n",
       "| project &lt;chr&gt; | operational &lt;chr&gt; | city_AWTP &lt;chr&gt; | inland_coastal_40mi &lt;chr&gt; | state_region_provence &lt;chr&gt; | country &lt;chr&gt; | detail_PR_type &lt;chr&gt; | awtp_contains_RO &lt;chr&gt; | max_treatment_per_facility_RO &lt;chr&gt; | wwtp_effluent &lt;chr&gt; | advanced_treatment_detail_RO &lt;chr&gt; | upstream_RO &lt;chr&gt; | concentrate_treatment &lt;chr&gt; | RO_concentrate_management &lt;chr&gt; |\n",
       "|---|---|---|---|---|---|---|---|---|---|---|---|---|---|\n",
       "| Palm Beach County RECAP                                                   | N | Palm Beach    | Coastal | FL            | USA          | groundwater | Y | secondary, advanced, groundwater augmentation | secondary | MF, RO, UV/AOP (unspecified)                                         | MF                       | none reported                     | deep well injection                  |\n",
       "| Dominguez Gap Barrier Terminal Island, City of Los Angeles long Beach 3-4 | Y | Los Angeles   | Coastal | CA            | USA          | groundwater | Y | tertiary, advanced, groundwater augmentation  | tertiary  | MF, RO, UV/HOCl                                                      | MF                       | none reported                     | deep well injection; ocean discharge |\n",
       "| Perth Groundwater Replenishment Scheme                                    | Y | Perth         | Coastal | Perth         | Australia    | groundwater | Y | secondary, advanced, groundwater augmentation | secondary | UF, RO, UV                                                           | UF                       | neutralization tank (unspecified) | ocean discharge                      |\n",
       "| Aquaduin formerly Intermunicipal Water Company from the Veurne Region     | Y | Koksijde      | Coastal | West Flanders | Belgium      | groundwater | Y | secondary, advanced, groundwater augmentation | secondary | HOCl, UF, cartridge filtration, RO, UV/H2O2                          | UF, cartridge filtration | constructed wetland               | ocean discharge                      |\n",
       "| NEWater                                                                   | Y | Singapore     | Coastal | NA            | Singapore    | reservoir   | Y | secondary, advanced, reservoir augmentation   | secondary | HOCl, MF, RO, cartridge filtration, UV, HOCl                         | MF                       | none reported                     | ocean discharge                      |\n",
       "| Beaufort West Municipality                                                | Y | Beaufort West | Inland  | Western Cape  | South Africa | reservoir   | Y | secondary, advanced, reservoir augmentation   | secondary | HOCl, settling, coagulation, media filtration, UF, RO, UV/H2O2, HOCl | UF                       | maturation pond                   | unknown                              |\n",
       "\n"
      ],
      "text/plain": [
       "  project                                                                  \n",
       "1 Palm Beach County RECAP                                                  \n",
       "2 Dominguez Gap Barrier Terminal Island, City of Los Angeles long Beach 3-4\n",
       "3 Perth Groundwater Replenishment Scheme                                   \n",
       "4 Aquaduin formerly Intermunicipal Water Company from the Veurne Region    \n",
       "5 NEWater                                                                  \n",
       "6 Beaufort West Municipality                                               \n",
       "  operational city_AWTP     inland_coastal_40mi state_region_provence\n",
       "1 N           Palm Beach    Coastal             FL                   \n",
       "2 Y           Los Angeles   Coastal             CA                   \n",
       "3 Y           Perth         Coastal             Perth                \n",
       "4 Y           Koksijde      Coastal             West Flanders        \n",
       "5 Y           Singapore     Coastal             NA                   \n",
       "6 Y           Beaufort West Inland              Western Cape         \n",
       "  country      detail_PR_type awtp_contains_RO\n",
       "1 USA          groundwater    Y               \n",
       "2 USA          groundwater    Y               \n",
       "3 Australia    groundwater    Y               \n",
       "4 Belgium      groundwater    Y               \n",
       "5 Singapore    reservoir      Y               \n",
       "6 South Africa reservoir      Y               \n",
       "  max_treatment_per_facility_RO                 wwtp_effluent\n",
       "1 secondary, advanced, groundwater augmentation secondary    \n",
       "2 tertiary, advanced, groundwater augmentation  tertiary     \n",
       "3 secondary, advanced, groundwater augmentation secondary    \n",
       "4 secondary, advanced, groundwater augmentation secondary    \n",
       "5 secondary, advanced, reservoir augmentation   secondary    \n",
       "6 secondary, advanced, reservoir augmentation   secondary    \n",
       "  advanced_treatment_detail_RO                                        \n",
       "1 MF, RO, UV/AOP (unspecified)                                        \n",
       "2 MF, RO, UV/HOCl                                                     \n",
       "3 UF, RO, UV                                                          \n",
       "4 HOCl, UF, cartridge filtration, RO, UV/H2O2                         \n",
       "5 HOCl, MF, RO, cartridge filtration, UV, HOCl                        \n",
       "6 HOCl, settling, coagulation, media filtration, UF, RO, UV/H2O2, HOCl\n",
       "  upstream_RO              concentrate_treatment            \n",
       "1 MF                       none reported                    \n",
       "2 MF                       none reported                    \n",
       "3 UF                       neutralization tank (unspecified)\n",
       "4 UF, cartridge filtration constructed wetland              \n",
       "5 MF                       none reported                    \n",
       "6 UF                       maturation pond                  \n",
       "  RO_concentrate_management           \n",
       "1 deep well injection                 \n",
       "2 deep well injection; ocean discharge\n",
       "3 ocean discharge                     \n",
       "4 ocean discharge                     \n",
       "5 ocean discharge                     \n",
       "6 unknown                             "
      ]
     },
     "metadata": {},
     "output_type": "display_data"
    }
   ],
   "source": [
    "\n",
    "roc_all<-roc_all[,c(\"project\", \"why_not_in_table\",\"operational\", \"city_AWTP\", \"inland_coastal_40mi\", \"state_region_provence\", \"country\",\"detail_PR_type\", \"awtp_contains_RO\", \"wwtp_effluent\", \"max_treatment_per_facility_RO\", \"advanced_treatment_detail_RO\", \"upstream_RO\", \"concentrate_treatment\", \"RO_concentrate_management\")]\n",
    "roc_all[roc_all$why_not_in_table == 'NA', \"why_not_in_table\"]<-NA\n",
    "\n",
    "roc_inc<-roc_all[is.na(roc_all$why_not_in_table),]\n",
    "roc_inc<-roc_inc[,c(\"project\",\"operational\", \"city_AWTP\", \"inland_coastal_40mi\", \"state_region_provence\", \"country\",\"detail_PR_type\", \"awtp_contains_RO\",\"max_treatment_per_facility_RO\", \"wwtp_effluent\", \"advanced_treatment_detail_RO\", \"upstream_RO\", \"concentrate_treatment\", \"RO_concentrate_management\")]\n",
    "roc_inc[roc_inc$awtp_contains_RO == \"N\",c( \"wwtp_effluent\",\"max_treatment_per_facility_RO\", \"advanced_treatment_detail_RO\", \"upstream_RO\", \"concentrate_treatment\", \"RO_concentrate_management\")]<- NA\n",
    "\n",
    "name=\"potable_reuse_full_dataset.csv\"\n",
    "write.csv(roc_inc, paste(path,name, sep=\"\"))\n",
    "      \n",
    "roc_ro<- roc_inc[roc_inc$awtp_contains_RO == \"Y\",]\n",
    "head(roc_ro)"
   ]
  },
  {
   "cell_type": "markdown",
   "metadata": {},
   "source": [
    "## 3. Tables\n"
   ]
  },
  {
   "cell_type": "code",
   "execution_count": 6,
   "metadata": {},
   "outputs": [
    {
     "data": {
      "text/html": [
       "<table class=\"dataframe\">\n",
       "<caption>A tibble: 57 × 6</caption>\n",
       "<thead>\n",
       "\t<tr><th scope=col>city_AWTP</th><th scope=col>state_region_provence</th><th scope=col>country</th><th scope=col>operational</th><th scope=col>detail_PR_type</th><th scope=col>awtp_contains_RO</th></tr>\n",
       "\t<tr><th scope=col>&lt;chr&gt;</th><th scope=col>&lt;chr&gt;</th><th scope=col>&lt;chr&gt;</th><th scope=col>&lt;chr&gt;</th><th scope=col>&lt;chr&gt;</th><th scope=col>&lt;chr&gt;</th></tr>\n",
       "</thead>\n",
       "<tbody>\n",
       "\t<tr><td>Bangalore                                                                                         </td><td>Karnataka       </td><td>India         </td><td>N</td><td>reservoir        </td><td>N</td></tr>\n",
       "\t<tr><td>Leon                                                                                              </td><td>Guanajuato      </td><td>Mexico        </td><td>N</td><td>reservoir        </td><td>N</td></tr>\n",
       "\t<tr><td>Windhoek                                                                                          </td><td>Khomas          </td><td>Namibia       </td><td>Y</td><td>treated water    </td><td>N</td></tr>\n",
       "\t<tr><td>Bloemfontein                                                                                      </td><td>Free State      </td><td>South Africa  </td><td>N</td><td>treated water    </td><td>N</td></tr>\n",
       "\t<tr><td>Atlantis                                                                                          </td><td>Western Cape    </td><td>South Africa  </td><td>Y</td><td>groundwater      </td><td>N</td></tr>\n",
       "\t<tr><td>Cape Town                                                                                         </td><td>Western Cape    </td><td>South Africa  </td><td>N</td><td>groundwater      </td><td>N</td></tr>\n",
       "\t<tr><td>Langford                                                                                          </td><td>Essex           </td><td>United Kingdom</td><td>Y</td><td>reservoir        </td><td>N</td></tr>\n",
       "\t<tr><td>Chino                                                                                             </td><td>CA              </td><td>USA           </td><td>Y</td><td>groundwater      </td><td>N</td></tr>\n",
       "\t<tr><td>San Bernardino                                                                                    </td><td>CA              </td><td>USA           </td><td>Y</td><td>groundwater      </td><td>N</td></tr>\n",
       "\t<tr><td>Aurora                                                                                            </td><td>CO              </td><td>USA           </td><td>Y</td><td>groundwater      </td><td>N</td></tr>\n",
       "\t<tr><td>Castle Rock                                                                                       </td><td>CO              </td><td>USA           </td><td>Y</td><td>raw water        </td><td>N</td></tr>\n",
       "\t<tr><td>Buford                                                                                            </td><td>GA              </td><td>USA           </td><td>Y</td><td>reservoir        </td><td>N</td></tr>\n",
       "\t<tr><td>Morrow                                                                                            </td><td>GA              </td><td>USA           </td><td>Y</td><td>reservoir        </td><td>N</td></tr>\n",
       "\t<tr><td>Bartlesville                                                                                      </td><td>OK              </td><td>USA           </td><td>N</td><td>reservoir        </td><td>N</td></tr>\n",
       "\t<tr><td>El Paso                                                                                           </td><td>TX              </td><td>USA           </td><td>Y</td><td>groundwater      </td><td>N</td></tr>\n",
       "\t<tr><td>Fort Worth                                                                                        </td><td>TX              </td><td>USA           </td><td>Y</td><td>reservoir        </td><td>N</td></tr>\n",
       "\t<tr><td>Wichita Falls                                                                                     </td><td>TX              </td><td>USA           </td><td>Y</td><td>reservoir        </td><td>N</td></tr>\n",
       "\t<tr><td>Wylie                                                                                             </td><td>TX              </td><td>USA           </td><td>Y</td><td>reservoir        </td><td>N</td></tr>\n",
       "\t<tr><td>Ashburn                                                                                           </td><td>VA              </td><td>USA           </td><td>Y</td><td>raw water        </td><td>N</td></tr>\n",
       "\t<tr><td>Centreville                                                                                       </td><td>VA              </td><td>USA           </td><td>Y</td><td>reservoir        </td><td>N</td></tr>\n",
       "\t<tr><td>Suffolk                                                                                           </td><td>VA              </td><td>USA           </td><td>Y</td><td>groundwater      </td><td>N</td></tr>\n",
       "\t<tr><td>Airway Heights                                                                                    </td><td>WA              </td><td>USA           </td><td>Y</td><td>groundwater      </td><td>N</td></tr>\n",
       "\t<tr><td>Ephrata                                                                                           </td><td>WA              </td><td>USA           </td><td>Y</td><td>groundwater      </td><td>N</td></tr>\n",
       "\t<tr><td>Lacey                                                                                             </td><td>WA              </td><td>USA           </td><td>Y</td><td>groundwater      </td><td>N</td></tr>\n",
       "\t<tr><td>Quincy City                                                                                       </td><td>WA              </td><td>USA           </td><td>Y</td><td>groundwater      </td><td>N</td></tr>\n",
       "\t<tr><td>Royal City                                                                                        </td><td>WA              </td><td>USA           </td><td>Y</td><td>groundwater      </td><td>N</td></tr>\n",
       "\t<tr><td>Tenino                                                                                            </td><td>WA              </td><td>USA           </td><td>Y</td><td>groundwater      </td><td>N</td></tr>\n",
       "\t<tr><td>Yelm                                                                                              </td><td>WA              </td><td>USA           </td><td>Y</td><td>groundwater      </td><td>N</td></tr>\n",
       "\t<tr><td>Perth                                                                                             </td><td>Perth           </td><td>Australia     </td><td>Y</td><td>groundwater      </td><td>Y</td></tr>\n",
       "\t<tr><td>Koksijde                                                                                          </td><td>West Flanders   </td><td>Belgium       </td><td>Y</td><td>groundwater      </td><td>Y</td></tr>\n",
       "\t<tr><td>Parañaque City                                                                                    </td><td>National Capital</td><td>Philippines   </td><td>Y</td><td>treated water    </td><td>Y</td></tr>\n",
       "\t<tr><td>Singapore                                                                                         </td><td>NA              </td><td>Singapore     </td><td>Y</td><td>reservoir        </td><td>Y</td></tr>\n",
       "\t<tr><td>Ballito                                                                                           </td><td>KwaZulu Natal   </td><td>South Africa  </td><td>Y</td><td>treated water    </td><td>Y</td></tr>\n",
       "\t<tr><td>Durban                                                                                            </td><td>KwaZulu-Natal   </td><td>South Africa  </td><td>N</td><td>DPR (unspecified)</td><td>Y</td></tr>\n",
       "\t<tr><td>Beaufort West                                                                                     </td><td>Western Cape    </td><td>South Africa  </td><td>Y</td><td>reservoir        </td><td>Y</td></tr>\n",
       "\t<tr><td>Barcelona                                                                                         </td><td>Barcelona       </td><td>Spain         </td><td>Y</td><td>groundwater      </td><td>Y</td></tr>\n",
       "\t<tr><td>Barcelona                                                                                         </td><td>Barcelona       </td><td>Spain         </td><td>Y</td><td>reservoir        </td><td>Y</td></tr>\n",
       "\t<tr><td>Phoenix                                                                                           </td><td>AZ              </td><td>USA           </td><td>N</td><td>groundwater      </td><td>Y</td></tr>\n",
       "\t<tr><td>Scottsdale                                                                                        </td><td>AZ              </td><td>USA           </td><td>Y</td><td>groundwater      </td><td>Y</td></tr>\n",
       "\t<tr><td>El Segundo                                                                                        </td><td>CA              </td><td>USA           </td><td>Y</td><td>groundwater      </td><td>Y</td></tr>\n",
       "\t<tr><td>Fountain Valley                                                                                   </td><td>CA              </td><td>USA           </td><td>Y</td><td>groundwater      </td><td>Y</td></tr>\n",
       "\t<tr><td>https://www.soquelcreekwater.org/DocumentCenter/View/2074/Pure-Water-Soquel-Engineering-Report-PDF</td><td>CA              </td><td>USA           </td><td>N</td><td>groundwater      </td><td>Y</td></tr>\n",
       "\t<tr><td>Long Beach                                                                                        </td><td>CA              </td><td>USA           </td><td>Y</td><td>groundwater      </td><td>Y</td></tr>\n",
       "\t<tr><td>Los Angeles                                                                                       </td><td>CA              </td><td>USA           </td><td>Y</td><td>groundwater      </td><td>Y</td></tr>\n",
       "\t<tr><td>Monterey                                                                                          </td><td>CA              </td><td>USA           </td><td>Y</td><td>groundwater      </td><td>Y</td></tr>\n",
       "\t<tr><td>Oceanside                                                                                         </td><td>CA              </td><td>USA           </td><td>Y</td><td>groundwater      </td><td>Y</td></tr>\n",
       "\t<tr><td>Oxnard                                                                                            </td><td>CA              </td><td>USA           </td><td>N</td><td>groundwater      </td><td>Y</td></tr>\n",
       "\t<tr><td>Pico Rivera                                                                                       </td><td>CA              </td><td>USA           </td><td>Y</td><td>groundwater      </td><td>Y</td></tr>\n",
       "\t<tr><td>San Diego                                                                                         </td><td>CA              </td><td>USA           </td><td>N</td><td>reservoir        </td><td>Y</td></tr>\n",
       "\t<tr><td>Santa Monica                                                                                      </td><td>CA              </td><td>USA           </td><td>Y</td><td>groundwater      </td><td>Y</td></tr>\n",
       "\t<tr><td>Santee                                                                                            </td><td>CA              </td><td>USA           </td><td>N</td><td>reservoir        </td><td>Y</td></tr>\n",
       "\t<tr><td>Englewood                                                                                         </td><td>CO              </td><td>USA           </td><td>Y</td><td>groundwater      </td><td>Y</td></tr>\n",
       "\t<tr><td>Jacksonville                                                                                      </td><td>FL              </td><td>USA           </td><td>N</td><td>groundwater      </td><td>Y</td></tr>\n",
       "\t<tr><td>Palm Beach                                                                                        </td><td>FL              </td><td>USA           </td><td>N</td><td>groundwater      </td><td>Y</td></tr>\n",
       "\t<tr><td>Abilene                                                                                           </td><td>TX              </td><td>USA           </td><td>Y</td><td>reservoir        </td><td>Y</td></tr>\n",
       "\t<tr><td>Big Spring                                                                                        </td><td>TX              </td><td>USA           </td><td>Y</td><td>raw water        </td><td>Y</td></tr>\n",
       "\t<tr><td>El Paso                                                                                           </td><td>TX              </td><td>USA           </td><td>N</td><td>treated water    </td><td>Y</td></tr>\n",
       "</tbody>\n",
       "</table>\n"
      ],
      "text/latex": [
       "A tibble: 57 × 6\n",
       "\\begin{tabular}{llllll}\n",
       " city\\_AWTP & state\\_region\\_provence & country & operational & detail\\_PR\\_type & awtp\\_contains\\_RO\\\\\n",
       " <chr> & <chr> & <chr> & <chr> & <chr> & <chr>\\\\\n",
       "\\hline\n",
       "\t Bangalore                                                                                          & Karnataka        & India          & N & reservoir         & N\\\\\n",
       "\t Leon                                                                                               & Guanajuato       & Mexico         & N & reservoir         & N\\\\\n",
       "\t Windhoek                                                                                           & Khomas           & Namibia        & Y & treated water     & N\\\\\n",
       "\t Bloemfontein                                                                                       & Free State       & South Africa   & N & treated water     & N\\\\\n",
       "\t Atlantis                                                                                           & Western Cape     & South Africa   & Y & groundwater       & N\\\\\n",
       "\t Cape Town                                                                                          & Western Cape     & South Africa   & N & groundwater       & N\\\\\n",
       "\t Langford                                                                                           & Essex            & United Kingdom & Y & reservoir         & N\\\\\n",
       "\t Chino                                                                                              & CA               & USA            & Y & groundwater       & N\\\\\n",
       "\t San Bernardino                                                                                     & CA               & USA            & Y & groundwater       & N\\\\\n",
       "\t Aurora                                                                                             & CO               & USA            & Y & groundwater       & N\\\\\n",
       "\t Castle Rock                                                                                        & CO               & USA            & Y & raw water         & N\\\\\n",
       "\t Buford                                                                                             & GA               & USA            & Y & reservoir         & N\\\\\n",
       "\t Morrow                                                                                             & GA               & USA            & Y & reservoir         & N\\\\\n",
       "\t Bartlesville                                                                                       & OK               & USA            & N & reservoir         & N\\\\\n",
       "\t El Paso                                                                                            & TX               & USA            & Y & groundwater       & N\\\\\n",
       "\t Fort Worth                                                                                         & TX               & USA            & Y & reservoir         & N\\\\\n",
       "\t Wichita Falls                                                                                      & TX               & USA            & Y & reservoir         & N\\\\\n",
       "\t Wylie                                                                                              & TX               & USA            & Y & reservoir         & N\\\\\n",
       "\t Ashburn                                                                                            & VA               & USA            & Y & raw water         & N\\\\\n",
       "\t Centreville                                                                                        & VA               & USA            & Y & reservoir         & N\\\\\n",
       "\t Suffolk                                                                                            & VA               & USA            & Y & groundwater       & N\\\\\n",
       "\t Airway Heights                                                                                     & WA               & USA            & Y & groundwater       & N\\\\\n",
       "\t Ephrata                                                                                            & WA               & USA            & Y & groundwater       & N\\\\\n",
       "\t Lacey                                                                                              & WA               & USA            & Y & groundwater       & N\\\\\n",
       "\t Quincy City                                                                                        & WA               & USA            & Y & groundwater       & N\\\\\n",
       "\t Royal City                                                                                         & WA               & USA            & Y & groundwater       & N\\\\\n",
       "\t Tenino                                                                                             & WA               & USA            & Y & groundwater       & N\\\\\n",
       "\t Yelm                                                                                               & WA               & USA            & Y & groundwater       & N\\\\\n",
       "\t Perth                                                                                              & Perth            & Australia      & Y & groundwater       & Y\\\\\n",
       "\t Koksijde                                                                                           & West Flanders    & Belgium        & Y & groundwater       & Y\\\\\n",
       "\t Parañaque City                                                                                     & National Capital & Philippines    & Y & treated water     & Y\\\\\n",
       "\t Singapore                                                                                          & NA               & Singapore      & Y & reservoir         & Y\\\\\n",
       "\t Ballito                                                                                            & KwaZulu Natal    & South Africa   & Y & treated water     & Y\\\\\n",
       "\t Durban                                                                                             & KwaZulu-Natal    & South Africa   & N & DPR (unspecified) & Y\\\\\n",
       "\t Beaufort West                                                                                      & Western Cape     & South Africa   & Y & reservoir         & Y\\\\\n",
       "\t Barcelona                                                                                          & Barcelona        & Spain          & Y & groundwater       & Y\\\\\n",
       "\t Barcelona                                                                                          & Barcelona        & Spain          & Y & reservoir         & Y\\\\\n",
       "\t Phoenix                                                                                            & AZ               & USA            & N & groundwater       & Y\\\\\n",
       "\t Scottsdale                                                                                         & AZ               & USA            & Y & groundwater       & Y\\\\\n",
       "\t El Segundo                                                                                         & CA               & USA            & Y & groundwater       & Y\\\\\n",
       "\t Fountain Valley                                                                                    & CA               & USA            & Y & groundwater       & Y\\\\\n",
       "\t https://www.soquelcreekwater.org/DocumentCenter/View/2074/Pure-Water-Soquel-Engineering-Report-PDF & CA               & USA            & N & groundwater       & Y\\\\\n",
       "\t Long Beach                                                                                         & CA               & USA            & Y & groundwater       & Y\\\\\n",
       "\t Los Angeles                                                                                        & CA               & USA            & Y & groundwater       & Y\\\\\n",
       "\t Monterey                                                                                           & CA               & USA            & Y & groundwater       & Y\\\\\n",
       "\t Oceanside                                                                                          & CA               & USA            & Y & groundwater       & Y\\\\\n",
       "\t Oxnard                                                                                             & CA               & USA            & N & groundwater       & Y\\\\\n",
       "\t Pico Rivera                                                                                        & CA               & USA            & Y & groundwater       & Y\\\\\n",
       "\t San Diego                                                                                          & CA               & USA            & N & reservoir         & Y\\\\\n",
       "\t Santa Monica                                                                                       & CA               & USA            & Y & groundwater       & Y\\\\\n",
       "\t Santee                                                                                             & CA               & USA            & N & reservoir         & Y\\\\\n",
       "\t Englewood                                                                                          & CO               & USA            & Y & groundwater       & Y\\\\\n",
       "\t Jacksonville                                                                                       & FL               & USA            & N & groundwater       & Y\\\\\n",
       "\t Palm Beach                                                                                         & FL               & USA            & N & groundwater       & Y\\\\\n",
       "\t Abilene                                                                                            & TX               & USA            & Y & reservoir         & Y\\\\\n",
       "\t Big Spring                                                                                         & TX               & USA            & Y & raw water         & Y\\\\\n",
       "\t El Paso                                                                                            & TX               & USA            & N & treated water     & Y\\\\\n",
       "\\end{tabular}\n"
      ],
      "text/markdown": [
       "\n",
       "A tibble: 57 × 6\n",
       "\n",
       "| city_AWTP &lt;chr&gt; | state_region_provence &lt;chr&gt; | country &lt;chr&gt; | operational &lt;chr&gt; | detail_PR_type &lt;chr&gt; | awtp_contains_RO &lt;chr&gt; |\n",
       "|---|---|---|---|---|---|\n",
       "| Bangalore                                                                                          | Karnataka        | India          | N | reservoir         | N |\n",
       "| Leon                                                                                               | Guanajuato       | Mexico         | N | reservoir         | N |\n",
       "| Windhoek                                                                                           | Khomas           | Namibia        | Y | treated water     | N |\n",
       "| Bloemfontein                                                                                       | Free State       | South Africa   | N | treated water     | N |\n",
       "| Atlantis                                                                                           | Western Cape     | South Africa   | Y | groundwater       | N |\n",
       "| Cape Town                                                                                          | Western Cape     | South Africa   | N | groundwater       | N |\n",
       "| Langford                                                                                           | Essex            | United Kingdom | Y | reservoir         | N |\n",
       "| Chino                                                                                              | CA               | USA            | Y | groundwater       | N |\n",
       "| San Bernardino                                                                                     | CA               | USA            | Y | groundwater       | N |\n",
       "| Aurora                                                                                             | CO               | USA            | Y | groundwater       | N |\n",
       "| Castle Rock                                                                                        | CO               | USA            | Y | raw water         | N |\n",
       "| Buford                                                                                             | GA               | USA            | Y | reservoir         | N |\n",
       "| Morrow                                                                                             | GA               | USA            | Y | reservoir         | N |\n",
       "| Bartlesville                                                                                       | OK               | USA            | N | reservoir         | N |\n",
       "| El Paso                                                                                            | TX               | USA            | Y | groundwater       | N |\n",
       "| Fort Worth                                                                                         | TX               | USA            | Y | reservoir         | N |\n",
       "| Wichita Falls                                                                                      | TX               | USA            | Y | reservoir         | N |\n",
       "| Wylie                                                                                              | TX               | USA            | Y | reservoir         | N |\n",
       "| Ashburn                                                                                            | VA               | USA            | Y | raw water         | N |\n",
       "| Centreville                                                                                        | VA               | USA            | Y | reservoir         | N |\n",
       "| Suffolk                                                                                            | VA               | USA            | Y | groundwater       | N |\n",
       "| Airway Heights                                                                                     | WA               | USA            | Y | groundwater       | N |\n",
       "| Ephrata                                                                                            | WA               | USA            | Y | groundwater       | N |\n",
       "| Lacey                                                                                              | WA               | USA            | Y | groundwater       | N |\n",
       "| Quincy City                                                                                        | WA               | USA            | Y | groundwater       | N |\n",
       "| Royal City                                                                                         | WA               | USA            | Y | groundwater       | N |\n",
       "| Tenino                                                                                             | WA               | USA            | Y | groundwater       | N |\n",
       "| Yelm                                                                                               | WA               | USA            | Y | groundwater       | N |\n",
       "| Perth                                                                                              | Perth            | Australia      | Y | groundwater       | Y |\n",
       "| Koksijde                                                                                           | West Flanders    | Belgium        | Y | groundwater       | Y |\n",
       "| Parañaque City                                                                                     | National Capital | Philippines    | Y | treated water     | Y |\n",
       "| Singapore                                                                                          | NA               | Singapore      | Y | reservoir         | Y |\n",
       "| Ballito                                                                                            | KwaZulu Natal    | South Africa   | Y | treated water     | Y |\n",
       "| Durban                                                                                             | KwaZulu-Natal    | South Africa   | N | DPR (unspecified) | Y |\n",
       "| Beaufort West                                                                                      | Western Cape     | South Africa   | Y | reservoir         | Y |\n",
       "| Barcelona                                                                                          | Barcelona        | Spain          | Y | groundwater       | Y |\n",
       "| Barcelona                                                                                          | Barcelona        | Spain          | Y | reservoir         | Y |\n",
       "| Phoenix                                                                                            | AZ               | USA            | N | groundwater       | Y |\n",
       "| Scottsdale                                                                                         | AZ               | USA            | Y | groundwater       | Y |\n",
       "| El Segundo                                                                                         | CA               | USA            | Y | groundwater       | Y |\n",
       "| Fountain Valley                                                                                    | CA               | USA            | Y | groundwater       | Y |\n",
       "| https://www.soquelcreekwater.org/DocumentCenter/View/2074/Pure-Water-Soquel-Engineering-Report-PDF | CA               | USA            | N | groundwater       | Y |\n",
       "| Long Beach                                                                                         | CA               | USA            | Y | groundwater       | Y |\n",
       "| Los Angeles                                                                                        | CA               | USA            | Y | groundwater       | Y |\n",
       "| Monterey                                                                                           | CA               | USA            | Y | groundwater       | Y |\n",
       "| Oceanside                                                                                          | CA               | USA            | Y | groundwater       | Y |\n",
       "| Oxnard                                                                                             | CA               | USA            | N | groundwater       | Y |\n",
       "| Pico Rivera                                                                                        | CA               | USA            | Y | groundwater       | Y |\n",
       "| San Diego                                                                                          | CA               | USA            | N | reservoir         | Y |\n",
       "| Santa Monica                                                                                       | CA               | USA            | Y | groundwater       | Y |\n",
       "| Santee                                                                                             | CA               | USA            | N | reservoir         | Y |\n",
       "| Englewood                                                                                          | CO               | USA            | Y | groundwater       | Y |\n",
       "| Jacksonville                                                                                       | FL               | USA            | N | groundwater       | Y |\n",
       "| Palm Beach                                                                                         | FL               | USA            | N | groundwater       | Y |\n",
       "| Abilene                                                                                            | TX               | USA            | Y | reservoir         | Y |\n",
       "| Big Spring                                                                                         | TX               | USA            | Y | raw water         | Y |\n",
       "| El Paso                                                                                            | TX               | USA            | N | treated water     | Y |\n",
       "\n"
      ],
      "text/plain": [
       "   city_AWTP                                                                                         \n",
       "1  Bangalore                                                                                         \n",
       "2  Leon                                                                                              \n",
       "3  Windhoek                                                                                          \n",
       "4  Bloemfontein                                                                                      \n",
       "5  Atlantis                                                                                          \n",
       "6  Cape Town                                                                                         \n",
       "7  Langford                                                                                          \n",
       "8  Chino                                                                                             \n",
       "9  San Bernardino                                                                                    \n",
       "10 Aurora                                                                                            \n",
       "11 Castle Rock                                                                                       \n",
       "12 Buford                                                                                            \n",
       "13 Morrow                                                                                            \n",
       "14 Bartlesville                                                                                      \n",
       "15 El Paso                                                                                           \n",
       "16 Fort Worth                                                                                        \n",
       "17 Wichita Falls                                                                                     \n",
       "18 Wylie                                                                                             \n",
       "19 Ashburn                                                                                           \n",
       "20 Centreville                                                                                       \n",
       "21 Suffolk                                                                                           \n",
       "22 Airway Heights                                                                                    \n",
       "23 Ephrata                                                                                           \n",
       "24 Lacey                                                                                             \n",
       "25 Quincy City                                                                                       \n",
       "26 Royal City                                                                                        \n",
       "27 Tenino                                                                                            \n",
       "28 Yelm                                                                                              \n",
       "29 Perth                                                                                             \n",
       "30 Koksijde                                                                                          \n",
       "31 Parañaque City                                                                                    \n",
       "32 Singapore                                                                                         \n",
       "33 Ballito                                                                                           \n",
       "34 Durban                                                                                            \n",
       "35 Beaufort West                                                                                     \n",
       "36 Barcelona                                                                                         \n",
       "37 Barcelona                                                                                         \n",
       "38 Phoenix                                                                                           \n",
       "39 Scottsdale                                                                                        \n",
       "40 El Segundo                                                                                        \n",
       "41 Fountain Valley                                                                                   \n",
       "42 https://www.soquelcreekwater.org/DocumentCenter/View/2074/Pure-Water-Soquel-Engineering-Report-PDF\n",
       "43 Long Beach                                                                                        \n",
       "44 Los Angeles                                                                                       \n",
       "45 Monterey                                                                                          \n",
       "46 Oceanside                                                                                         \n",
       "47 Oxnard                                                                                            \n",
       "48 Pico Rivera                                                                                       \n",
       "49 San Diego                                                                                         \n",
       "50 Santa Monica                                                                                      \n",
       "51 Santee                                                                                            \n",
       "52 Englewood                                                                                         \n",
       "53 Jacksonville                                                                                      \n",
       "54 Palm Beach                                                                                        \n",
       "55 Abilene                                                                                           \n",
       "56 Big Spring                                                                                        \n",
       "57 El Paso                                                                                           \n",
       "   state_region_provence country        operational detail_PR_type   \n",
       "1  Karnataka             India          N           reservoir        \n",
       "2  Guanajuato            Mexico         N           reservoir        \n",
       "3  Khomas                Namibia        Y           treated water    \n",
       "4  Free State            South Africa   N           treated water    \n",
       "5  Western Cape          South Africa   Y           groundwater      \n",
       "6  Western Cape          South Africa   N           groundwater      \n",
       "7  Essex                 United Kingdom Y           reservoir        \n",
       "8  CA                    USA            Y           groundwater      \n",
       "9  CA                    USA            Y           groundwater      \n",
       "10 CO                    USA            Y           groundwater      \n",
       "11 CO                    USA            Y           raw water        \n",
       "12 GA                    USA            Y           reservoir        \n",
       "13 GA                    USA            Y           reservoir        \n",
       "14 OK                    USA            N           reservoir        \n",
       "15 TX                    USA            Y           groundwater      \n",
       "16 TX                    USA            Y           reservoir        \n",
       "17 TX                    USA            Y           reservoir        \n",
       "18 TX                    USA            Y           reservoir        \n",
       "19 VA                    USA            Y           raw water        \n",
       "20 VA                    USA            Y           reservoir        \n",
       "21 VA                    USA            Y           groundwater      \n",
       "22 WA                    USA            Y           groundwater      \n",
       "23 WA                    USA            Y           groundwater      \n",
       "24 WA                    USA            Y           groundwater      \n",
       "25 WA                    USA            Y           groundwater      \n",
       "26 WA                    USA            Y           groundwater      \n",
       "27 WA                    USA            Y           groundwater      \n",
       "28 WA                    USA            Y           groundwater      \n",
       "29 Perth                 Australia      Y           groundwater      \n",
       "30 West Flanders         Belgium        Y           groundwater      \n",
       "31 National Capital      Philippines    Y           treated water    \n",
       "32 NA                    Singapore      Y           reservoir        \n",
       "33 KwaZulu Natal         South Africa   Y           treated water    \n",
       "34 KwaZulu-Natal         South Africa   N           DPR (unspecified)\n",
       "35 Western Cape          South Africa   Y           reservoir        \n",
       "36 Barcelona             Spain          Y           groundwater      \n",
       "37 Barcelona             Spain          Y           reservoir        \n",
       "38 AZ                    USA            N           groundwater      \n",
       "39 AZ                    USA            Y           groundwater      \n",
       "40 CA                    USA            Y           groundwater      \n",
       "41 CA                    USA            Y           groundwater      \n",
       "42 CA                    USA            N           groundwater      \n",
       "43 CA                    USA            Y           groundwater      \n",
       "44 CA                    USA            Y           groundwater      \n",
       "45 CA                    USA            Y           groundwater      \n",
       "46 CA                    USA            Y           groundwater      \n",
       "47 CA                    USA            N           groundwater      \n",
       "48 CA                    USA            Y           groundwater      \n",
       "49 CA                    USA            N           reservoir        \n",
       "50 CA                    USA            Y           groundwater      \n",
       "51 CA                    USA            N           reservoir        \n",
       "52 CO                    USA            Y           groundwater      \n",
       "53 FL                    USA            N           groundwater      \n",
       "54 FL                    USA            N           groundwater      \n",
       "55 TX                    USA            Y           reservoir        \n",
       "56 TX                    USA            Y           raw water        \n",
       "57 TX                    USA            N           treated water    \n",
       "   awtp_contains_RO\n",
       "1  N               \n",
       "2  N               \n",
       "3  N               \n",
       "4  N               \n",
       "5  N               \n",
       "6  N               \n",
       "7  N               \n",
       "8  N               \n",
       "9  N               \n",
       "10 N               \n",
       "11 N               \n",
       "12 N               \n",
       "13 N               \n",
       "14 N               \n",
       "15 N               \n",
       "16 N               \n",
       "17 N               \n",
       "18 N               \n",
       "19 N               \n",
       "20 N               \n",
       "21 N               \n",
       "22 N               \n",
       "23 N               \n",
       "24 N               \n",
       "25 N               \n",
       "26 N               \n",
       "27 N               \n",
       "28 N               \n",
       "29 Y               \n",
       "30 Y               \n",
       "31 Y               \n",
       "32 Y               \n",
       "33 Y               \n",
       "34 Y               \n",
       "35 Y               \n",
       "36 Y               \n",
       "37 Y               \n",
       "38 Y               \n",
       "39 Y               \n",
       "40 Y               \n",
       "41 Y               \n",
       "42 Y               \n",
       "43 Y               \n",
       "44 Y               \n",
       "45 Y               \n",
       "46 Y               \n",
       "47 Y               \n",
       "48 Y               \n",
       "49 Y               \n",
       "50 Y               \n",
       "51 Y               \n",
       "52 Y               \n",
       "53 Y               \n",
       "54 Y               \n",
       "55 Y               \n",
       "56 Y               \n",
       "57 Y               "
      ]
     },
     "metadata": {},
     "output_type": "display_data"
    },
    {
     "data": {
      "text/html": [
       "FALSE"
      ],
      "text/latex": [
       "FALSE"
      ],
      "text/markdown": [
       "FALSE"
      ],
      "text/plain": [
       "[1] FALSE"
      ]
     },
     "metadata": {},
     "output_type": "display_data"
    },
    {
     "name": "stdout",
     "output_type": "stream",
     "text": [
      "\n",
      "<table style=\"text-align:center\"><tr><td colspan=\"6\" style=\"border-bottom: 1px solid black\"></td></tr><tr><td style=\"text-align:left\">city_AWTP</td><td>state_region_provence</td><td>country</td><td>operational</td><td>detail_PR_type</td><td>awtp_contains_RO</td></tr>\n",
      "<tr><td colspan=\"6\" style=\"border-bottom: 1px solid black\"></td></tr><tr><td style=\"text-align:left\">Bangalore</td><td>Karnataka</td><td>India</td><td>N</td><td>reservoir</td><td>N</td></tr>\n",
      "<tr><td style=\"text-align:left\">Leon</td><td>Guanajuato</td><td>Mexico</td><td>N</td><td>reservoir</td><td>N</td></tr>\n",
      "<tr><td style=\"text-align:left\">Windhoek</td><td>Khomas</td><td>Namibia</td><td>Y</td><td>treated water</td><td>N</td></tr>\n",
      "<tr><td style=\"text-align:left\">Bloemfontein</td><td>Free State</td><td>South Africa</td><td>N</td><td>treated water</td><td>N</td></tr>\n",
      "<tr><td style=\"text-align:left\">Atlantis</td><td>Western Cape</td><td>South Africa</td><td>Y</td><td>groundwater</td><td>N</td></tr>\n",
      "<tr><td style=\"text-align:left\">Cape Town</td><td>Western Cape</td><td>South Africa</td><td>N</td><td>groundwater</td><td>N</td></tr>\n",
      "<tr><td style=\"text-align:left\">Langford</td><td>Essex</td><td>United Kingdom</td><td>Y</td><td>reservoir</td><td>N</td></tr>\n",
      "<tr><td style=\"text-align:left\">Chino</td><td>CA</td><td>USA</td><td>Y</td><td>groundwater</td><td>N</td></tr>\n",
      "<tr><td style=\"text-align:left\">San Bernardino</td><td>CA</td><td>USA</td><td>Y</td><td>groundwater</td><td>N</td></tr>\n",
      "<tr><td style=\"text-align:left\">Aurora</td><td>CO</td><td>USA</td><td>Y</td><td>groundwater</td><td>N</td></tr>\n",
      "<tr><td style=\"text-align:left\">Castle Rock</td><td>CO</td><td>USA</td><td>Y</td><td>raw water</td><td>N</td></tr>\n",
      "<tr><td style=\"text-align:left\">Buford</td><td>GA</td><td>USA</td><td>Y</td><td>reservoir</td><td>N</td></tr>\n",
      "<tr><td style=\"text-align:left\">Morrow</td><td>GA</td><td>USA</td><td>Y</td><td>reservoir</td><td>N</td></tr>\n",
      "<tr><td style=\"text-align:left\">Bartlesville</td><td>OK</td><td>USA</td><td>N</td><td>reservoir</td><td>N</td></tr>\n",
      "<tr><td style=\"text-align:left\">El Paso</td><td>TX</td><td>USA</td><td>Y</td><td>groundwater</td><td>N</td></tr>\n",
      "<tr><td style=\"text-align:left\">Fort Worth</td><td>TX</td><td>USA</td><td>Y</td><td>reservoir</td><td>N</td></tr>\n",
      "<tr><td style=\"text-align:left\">Wichita Falls</td><td>TX</td><td>USA</td><td>Y</td><td>reservoir</td><td>N</td></tr>\n",
      "<tr><td style=\"text-align:left\">Wylie</td><td>TX</td><td>USA</td><td>Y</td><td>reservoir</td><td>N</td></tr>\n",
      "<tr><td style=\"text-align:left\">Ashburn</td><td>VA</td><td>USA</td><td>Y</td><td>raw water</td><td>N</td></tr>\n",
      "<tr><td style=\"text-align:left\">Centreville</td><td>VA</td><td>USA</td><td>Y</td><td>reservoir</td><td>N</td></tr>\n",
      "<tr><td style=\"text-align:left\">Suffolk</td><td>VA</td><td>USA</td><td>Y</td><td>groundwater</td><td>N</td></tr>\n",
      "<tr><td style=\"text-align:left\">Airway Heights</td><td>WA</td><td>USA</td><td>Y</td><td>groundwater</td><td>N</td></tr>\n",
      "<tr><td style=\"text-align:left\">Ephrata</td><td>WA</td><td>USA</td><td>Y</td><td>groundwater</td><td>N</td></tr>\n",
      "<tr><td style=\"text-align:left\">Lacey</td><td>WA</td><td>USA</td><td>Y</td><td>groundwater</td><td>N</td></tr>\n",
      "<tr><td style=\"text-align:left\">Quincy City</td><td>WA</td><td>USA</td><td>Y</td><td>groundwater</td><td>N</td></tr>\n",
      "<tr><td style=\"text-align:left\">Royal City</td><td>WA</td><td>USA</td><td>Y</td><td>groundwater</td><td>N</td></tr>\n",
      "<tr><td style=\"text-align:left\">Tenino</td><td>WA</td><td>USA</td><td>Y</td><td>groundwater</td><td>N</td></tr>\n",
      "<tr><td style=\"text-align:left\">Yelm</td><td>WA</td><td>USA</td><td>Y</td><td>groundwater</td><td>N</td></tr>\n",
      "<tr><td style=\"text-align:left\">Perth</td><td>Perth</td><td>Australia</td><td>Y</td><td>groundwater</td><td>Y</td></tr>\n",
      "<tr><td style=\"text-align:left\">Koksijde</td><td>West Flanders</td><td>Belgium</td><td>Y</td><td>groundwater</td><td>Y</td></tr>\n",
      "<tr><td style=\"text-align:left\">Parañaque City</td><td>National Capital</td><td>Philippines</td><td>Y</td><td>treated water</td><td>Y</td></tr>\n",
      "<tr><td style=\"text-align:left\">Singapore</td><td>NA</td><td>Singapore</td><td>Y</td><td>reservoir</td><td>Y</td></tr>\n",
      "<tr><td style=\"text-align:left\">Ballito</td><td>KwaZulu Natal</td><td>South Africa</td><td>Y</td><td>treated water</td><td>Y</td></tr>\n",
      "<tr><td style=\"text-align:left\">Durban</td><td>KwaZulu-Natal</td><td>South Africa</td><td>N</td><td>DPR (unspecified)</td><td>Y</td></tr>\n",
      "<tr><td style=\"text-align:left\">Beaufort West</td><td>Western Cape</td><td>South Africa</td><td>Y</td><td>reservoir</td><td>Y</td></tr>\n",
      "<tr><td style=\"text-align:left\">Barcelona</td><td>Barcelona</td><td>Spain</td><td>Y</td><td>groundwater</td><td>Y</td></tr>\n",
      "<tr><td style=\"text-align:left\">Barcelona</td><td>Barcelona</td><td>Spain</td><td>Y</td><td>reservoir</td><td>Y</td></tr>\n",
      "<tr><td style=\"text-align:left\">Phoenix</td><td>AZ</td><td>USA</td><td>N</td><td>groundwater</td><td>Y</td></tr>\n",
      "<tr><td style=\"text-align:left\">Scottsdale</td><td>AZ</td><td>USA</td><td>Y</td><td>groundwater</td><td>Y</td></tr>\n",
      "<tr><td style=\"text-align:left\">El Segundo</td><td>CA</td><td>USA</td><td>Y</td><td>groundwater</td><td>Y</td></tr>\n",
      "<tr><td style=\"text-align:left\">Fountain Valley</td><td>CA</td><td>USA</td><td>Y</td><td>groundwater</td><td>Y</td></tr>\n",
      "<tr><td style=\"text-align:left\">https://www.soquelcreekwater.org/DocumentCenter/View/2074/Pure-Water-Soquel-Engineering-Report-PDF</td><td>CA</td><td>USA</td><td>N</td><td>groundwater</td><td>Y</td></tr>\n",
      "<tr><td style=\"text-align:left\">Long Beach</td><td>CA</td><td>USA</td><td>Y</td><td>groundwater</td><td>Y</td></tr>\n",
      "<tr><td style=\"text-align:left\">Los Angeles</td><td>CA</td><td>USA</td><td>Y</td><td>groundwater</td><td>Y</td></tr>\n",
      "<tr><td style=\"text-align:left\">Monterey</td><td>CA</td><td>USA</td><td>Y</td><td>groundwater</td><td>Y</td></tr>\n",
      "<tr><td style=\"text-align:left\">Oceanside</td><td>CA</td><td>USA</td><td>Y</td><td>groundwater</td><td>Y</td></tr>\n",
      "<tr><td style=\"text-align:left\">Oxnard</td><td>CA</td><td>USA</td><td>N</td><td>groundwater</td><td>Y</td></tr>\n",
      "<tr><td style=\"text-align:left\">Pico Rivera</td><td>CA</td><td>USA</td><td>Y</td><td>groundwater</td><td>Y</td></tr>\n",
      "<tr><td style=\"text-align:left\">San Diego</td><td>CA</td><td>USA</td><td>N</td><td>reservoir</td><td>Y</td></tr>\n",
      "<tr><td style=\"text-align:left\">Santa Monica</td><td>CA</td><td>USA</td><td>Y</td><td>groundwater</td><td>Y</td></tr>\n",
      "<tr><td style=\"text-align:left\">Santee</td><td>CA</td><td>USA</td><td>N</td><td>reservoir</td><td>Y</td></tr>\n",
      "<tr><td style=\"text-align:left\">Englewood</td><td>CO</td><td>USA</td><td>Y</td><td>groundwater</td><td>Y</td></tr>\n",
      "<tr><td style=\"text-align:left\">Jacksonville</td><td>FL</td><td>USA</td><td>N</td><td>groundwater</td><td>Y</td></tr>\n",
      "<tr><td style=\"text-align:left\">Palm Beach</td><td>FL</td><td>USA</td><td>N</td><td>groundwater</td><td>Y</td></tr>\n",
      "<tr><td style=\"text-align:left\">Abilene</td><td>TX</td><td>USA</td><td>Y</td><td>reservoir</td><td>Y</td></tr>\n",
      "<tr><td style=\"text-align:left\">Big Spring</td><td>TX</td><td>USA</td><td>Y</td><td>raw water</td><td>Y</td></tr>\n",
      "<tr><td style=\"text-align:left\">El Paso</td><td>TX</td><td>USA</td><td>N</td><td>treated water</td><td>Y</td></tr>\n",
      "<tr><td colspan=\"6\" style=\"border-bottom: 1px solid black\"></td></tr></table>\n"
     ]
    }
   ],
   "source": [
    "# full table \n",
    "table_s1<- roc_inc[order(roc_inc$awtp_contains_RO, roc_inc$country,roc_inc$state_region_provence,roc_inc$city_AWTP ),c(\"city_AWTP\", \"state_region_provence\", \"country\",\"operational\",\"detail_PR_type\",\"awtp_contains_RO\")]\n",
    "table_s1\n",
    "unique(duplicated(table_s1)) #no repeats\n",
    "\n",
    "name=\"TableS1.doc\" #name the file\n",
    "stargazer(table_s1,type=\"html\", summary=FALSE, rownames=FALSE, out=paste(path,name, sep=\"\"))"
   ]
  },
  {
   "cell_type": "code",
   "execution_count": 7,
   "metadata": {},
   "outputs": [
    {
     "data": {
      "text/html": [
       "<table class=\"dataframe\">\n",
       "<caption>A tibble: 29 × 5</caption>\n",
       "<thead>\n",
       "\t<tr><th scope=col>city_AWTP</th><th scope=col>state_region_provence</th><th scope=col>country</th><th scope=col>max_treatment_per_facility_RO</th><th scope=col>advanced_treatment_detail_RO</th></tr>\n",
       "\t<tr><th scope=col>&lt;chr&gt;</th><th scope=col>&lt;chr&gt;</th><th scope=col>&lt;chr&gt;</th><th scope=col>&lt;chr&gt;</th><th scope=col>&lt;chr&gt;</th></tr>\n",
       "</thead>\n",
       "<tbody>\n",
       "\t<tr><td>Palm Beach                                                                                        </td><td>FL              </td><td>USA         </td><td>secondary, advanced, groundwater augmentation                     </td><td>MF, RO, UV/AOP (unspecified)                                                                       </td></tr>\n",
       "\t<tr><td>Los Angeles                                                                                       </td><td>CA              </td><td>USA         </td><td>tertiary, advanced, groundwater augmentation                      </td><td>MF, RO, UV/HOCl                                                                                    </td></tr>\n",
       "\t<tr><td>Perth                                                                                             </td><td>Perth           </td><td>Australia   </td><td>secondary, advanced, groundwater augmentation                     </td><td>UF, RO, UV                                                                                         </td></tr>\n",
       "\t<tr><td>Koksijde                                                                                          </td><td>West Flanders   </td><td>Belgium     </td><td>secondary, advanced, groundwater augmentation                     </td><td>HOCl, UF, cartridge filtration, RO, UV/H2O2                                                        </td></tr>\n",
       "\t<tr><td>Singapore                                                                                         </td><td>NA              </td><td>Singapore   </td><td>secondary, advanced, reservoir augmentation                       </td><td>HOCl, MF, RO, cartridge filtration, UV, HOCl                                                       </td></tr>\n",
       "\t<tr><td>Beaufort West                                                                                     </td><td>Western Cape    </td><td>South Africa</td><td>secondary, advanced, reservoir augmentation                       </td><td>HOCl, settling, coagulation, media filtration, UF, RO, UV/H2O2, HOCl                               </td></tr>\n",
       "\t<tr><td>Durban                                                                                            </td><td>KwaZulu-Natal   </td><td>South Africa</td><td>secondary, advanced, DPR (unspecified)                            </td><td>MBR, RO                                                                                            </td></tr>\n",
       "\t<tr><td>Barcelona                                                                                         </td><td>Barcelona       </td><td>Spain       </td><td>secondary, advanced, groundwater augmentation                     </td><td>filtration (unspecified), UV, UF, RO                                                               </td></tr>\n",
       "\t<tr><td>El Segundo                                                                                        </td><td>CA              </td><td>USA         </td><td>secondary, advanced, groundwater augmentation                     </td><td>MF, RO, UV/H2O2                                                                                    </td></tr>\n",
       "\t<tr><td>Abilene                                                                                           </td><td>TX              </td><td>USA         </td><td>advanced, reservoir augmentation                                  </td><td>MBR, RO, ozone/BAF, HOCl                                                                           </td></tr>\n",
       "\t<tr><td>Big Spring                                                                                        </td><td>TX              </td><td>USA         </td><td>tertiary, advanced, raw water augmentation                        </td><td>MF, RO, UV/H2O2                                                                                    </td></tr>\n",
       "\t<tr><td>El Paso                                                                                           </td><td>TX              </td><td>USA         </td><td>secondary, advanced, treated water augmentation                   </td><td>membrane filtration (unspecified), RO, UV/AOP (unspecified), GAC, HOCl                             </td></tr>\n",
       "\t<tr><td>Monterey                                                                                          </td><td>CA              </td><td>USA         </td><td>secondary, advanced, groundwater augmentation                     </td><td>ozone, membrane filtration (unspecified), RO, UV/H2O2                                              </td></tr>\n",
       "\t<tr><td>Englewood                                                                                         </td><td>CO              </td><td>USA         </td><td>tertiary, riverbank filtration, groundwater augmentation, advanced</td><td>RO, UV/H2O2, air stripping, HOCl                                                                   </td></tr>\n",
       "\t<tr><td>Oceanside                                                                                         </td><td>CA              </td><td>USA         </td><td>secondary, advanced, groundwater augmentation                     </td><td>UF, RO, UV/HOCl                                                                                    </td></tr>\n",
       "\t<tr><td>Oxnard                                                                                            </td><td>CA              </td><td>USA         </td><td>secondary, advanced, groundwater augmentation                     </td><td>MF, RO, UV/H2O2                                                                                    </td></tr>\n",
       "\t<tr><td>https://www.soquelcreekwater.org/DocumentCenter/View/2074/Pure-Water-Soquel-Engineering-Report-PDF</td><td>CA              </td><td>USA         </td><td>secondary, advanced, groundwater augmentation                     </td><td>ozone, MF, RO, UV/H2O2                                                                             </td></tr>\n",
       "\t<tr><td>Fountain Valley                                                                                   </td><td>CA              </td><td>USA         </td><td>secondary, advanced, groundwater augmentation                     </td><td>MF, RO, UV/H2O2                                                                                    </td></tr>\n",
       "\t<tr><td>Long Beach                                                                                        </td><td>CA              </td><td>USA         </td><td>tertiary, advanced, groundwater augmentation                      </td><td>MF, RO, UV/H2O2, HOCl                                                                              </td></tr>\n",
       "\t<tr><td>Pico Rivera                                                                                       </td><td>CA              </td><td>USA         </td><td>tertiary, advanced, groundwater augmentation                      </td><td>UF, RO, UV/HOCl                                                                                    </td></tr>\n",
       "\t<tr><td>San Diego                                                                                         </td><td>CA              </td><td>USA         </td><td>tertiary, advanced, reservoir augmentation                        </td><td>ozone/BAF, UF, RO, UV/HOCl                                                                         </td></tr>\n",
       "\t<tr><td>Santa Monica                                                                                      </td><td>CA              </td><td>USA         </td><td>secondary, advanced, groundwater augmentation                     </td><td>MBR, cartridge filtration, RO, UV/HOCl, HOCl                                                       </td></tr>\n",
       "\t<tr><td>Phoenix                                                                                           </td><td>AZ              </td><td>USA         </td><td>advanced, groundwater augmentation                                </td><td>grit chamber, filtration (unspecified), MBR, RO, UV/AOP (unspecified)                              </td></tr>\n",
       "\t<tr><td>Santee                                                                                            </td><td>CA              </td><td>USA         </td><td>secondary, advanced, reservoir augmentation                       </td><td>membrane filtration (unspecified), RO, UV/HOCl                                                     </td></tr>\n",
       "\t<tr><td>Barcelona                                                                                         </td><td>Barcelona       </td><td>Spain       </td><td>secondary, tertiary, reservoir augmentation, advanced             </td><td>HOCl, coagulation, flocculation, media filtration, split: [ozone, GAC] or [UF, RO], recombine: HOCl</td></tr>\n",
       "\t<tr><td>Parañaque City                                                                                    </td><td>National Capital</td><td>Philippines </td><td>secondary, advanced, treated water augmentation                   </td><td>media filtration, UF, RO, HOCl                                                                     </td></tr>\n",
       "\t<tr><td>Ballito                                                                                           </td><td>KwaZulu Natal   </td><td>South Africa</td><td>advanced, treated water augmentation                              </td><td>aeration basin, settling, HOCl, media filtration, UF, RO, HOCl, UV, HOCl                           </td></tr>\n",
       "\t<tr><td>Jacksonville                                                                                      </td><td>FL              </td><td>USA         </td><td>tertiary, advanced, groundwater augmentation                      </td><td>membrane filtration (unspecified), RO, UV/AOP (unspecified)                                        </td></tr>\n",
       "\t<tr><td>Scottsdale                                                                                        </td><td>AZ              </td><td>USA         </td><td>tertiary, advanced, groundwater augmentation                      </td><td>ozone, UF, RO, UV                                                                                  </td></tr>\n",
       "</tbody>\n",
       "</table>\n"
      ],
      "text/latex": [
       "A tibble: 29 × 5\n",
       "\\begin{tabular}{lllll}\n",
       " city\\_AWTP & state\\_region\\_provence & country & max\\_treatment\\_per\\_facility\\_RO & advanced\\_treatment\\_detail\\_RO\\\\\n",
       " <chr> & <chr> & <chr> & <chr> & <chr>\\\\\n",
       "\\hline\n",
       "\t Palm Beach                                                                                         & FL               & USA          & secondary, advanced, groundwater augmentation                      & MF, RO, UV/AOP (unspecified)                                                                       \\\\\n",
       "\t Los Angeles                                                                                        & CA               & USA          & tertiary, advanced, groundwater augmentation                       & MF, RO, UV/HOCl                                                                                    \\\\\n",
       "\t Perth                                                                                              & Perth            & Australia    & secondary, advanced, groundwater augmentation                      & UF, RO, UV                                                                                         \\\\\n",
       "\t Koksijde                                                                                           & West Flanders    & Belgium      & secondary, advanced, groundwater augmentation                      & HOCl, UF, cartridge filtration, RO, UV/H2O2                                                        \\\\\n",
       "\t Singapore                                                                                          & NA               & Singapore    & secondary, advanced, reservoir augmentation                        & HOCl, MF, RO, cartridge filtration, UV, HOCl                                                       \\\\\n",
       "\t Beaufort West                                                                                      & Western Cape     & South Africa & secondary, advanced, reservoir augmentation                        & HOCl, settling, coagulation, media filtration, UF, RO, UV/H2O2, HOCl                               \\\\\n",
       "\t Durban                                                                                             & KwaZulu-Natal    & South Africa & secondary, advanced, DPR (unspecified)                             & MBR, RO                                                                                            \\\\\n",
       "\t Barcelona                                                                                          & Barcelona        & Spain        & secondary, advanced, groundwater augmentation                      & filtration (unspecified), UV, UF, RO                                                               \\\\\n",
       "\t El Segundo                                                                                         & CA               & USA          & secondary, advanced, groundwater augmentation                      & MF, RO, UV/H2O2                                                                                    \\\\\n",
       "\t Abilene                                                                                            & TX               & USA          & advanced, reservoir augmentation                                   & MBR, RO, ozone/BAF, HOCl                                                                           \\\\\n",
       "\t Big Spring                                                                                         & TX               & USA          & tertiary, advanced, raw water augmentation                         & MF, RO, UV/H2O2                                                                                    \\\\\n",
       "\t El Paso                                                                                            & TX               & USA          & secondary, advanced, treated water augmentation                    & membrane filtration (unspecified), RO, UV/AOP (unspecified), GAC, HOCl                             \\\\\n",
       "\t Monterey                                                                                           & CA               & USA          & secondary, advanced, groundwater augmentation                      & ozone, membrane filtration (unspecified), RO, UV/H2O2                                              \\\\\n",
       "\t Englewood                                                                                          & CO               & USA          & tertiary, riverbank filtration, groundwater augmentation, advanced & RO, UV/H2O2, air stripping, HOCl                                                                   \\\\\n",
       "\t Oceanside                                                                                          & CA               & USA          & secondary, advanced, groundwater augmentation                      & UF, RO, UV/HOCl                                                                                    \\\\\n",
       "\t Oxnard                                                                                             & CA               & USA          & secondary, advanced, groundwater augmentation                      & MF, RO, UV/H2O2                                                                                    \\\\\n",
       "\t https://www.soquelcreekwater.org/DocumentCenter/View/2074/Pure-Water-Soquel-Engineering-Report-PDF & CA               & USA          & secondary, advanced, groundwater augmentation                      & ozone, MF, RO, UV/H2O2                                                                             \\\\\n",
       "\t Fountain Valley                                                                                    & CA               & USA          & secondary, advanced, groundwater augmentation                      & MF, RO, UV/H2O2                                                                                    \\\\\n",
       "\t Long Beach                                                                                         & CA               & USA          & tertiary, advanced, groundwater augmentation                       & MF, RO, UV/H2O2, HOCl                                                                              \\\\\n",
       "\t Pico Rivera                                                                                        & CA               & USA          & tertiary, advanced, groundwater augmentation                       & UF, RO, UV/HOCl                                                                                    \\\\\n",
       "\t San Diego                                                                                          & CA               & USA          & tertiary, advanced, reservoir augmentation                         & ozone/BAF, UF, RO, UV/HOCl                                                                         \\\\\n",
       "\t Santa Monica                                                                                       & CA               & USA          & secondary, advanced, groundwater augmentation                      & MBR, cartridge filtration, RO, UV/HOCl, HOCl                                                       \\\\\n",
       "\t Phoenix                                                                                            & AZ               & USA          & advanced, groundwater augmentation                                 & grit chamber, filtration (unspecified), MBR, RO, UV/AOP (unspecified)                              \\\\\n",
       "\t Santee                                                                                             & CA               & USA          & secondary, advanced, reservoir augmentation                        & membrane filtration (unspecified), RO, UV/HOCl                                                     \\\\\n",
       "\t Barcelona                                                                                          & Barcelona        & Spain        & secondary, tertiary, reservoir augmentation, advanced              & HOCl, coagulation, flocculation, media filtration, split: {[}ozone, GAC{]} or {[}UF, RO{]}, recombine: HOCl\\\\\n",
       "\t Parañaque City                                                                                     & National Capital & Philippines  & secondary, advanced, treated water augmentation                    & media filtration, UF, RO, HOCl                                                                     \\\\\n",
       "\t Ballito                                                                                            & KwaZulu Natal    & South Africa & advanced, treated water augmentation                               & aeration basin, settling, HOCl, media filtration, UF, RO, HOCl, UV, HOCl                           \\\\\n",
       "\t Jacksonville                                                                                       & FL               & USA          & tertiary, advanced, groundwater augmentation                       & membrane filtration (unspecified), RO, UV/AOP (unspecified)                                        \\\\\n",
       "\t Scottsdale                                                                                         & AZ               & USA          & tertiary, advanced, groundwater augmentation                       & ozone, UF, RO, UV                                                                                  \\\\\n",
       "\\end{tabular}\n"
      ],
      "text/markdown": [
       "\n",
       "A tibble: 29 × 5\n",
       "\n",
       "| city_AWTP &lt;chr&gt; | state_region_provence &lt;chr&gt; | country &lt;chr&gt; | max_treatment_per_facility_RO &lt;chr&gt; | advanced_treatment_detail_RO &lt;chr&gt; |\n",
       "|---|---|---|---|---|\n",
       "| Palm Beach                                                                                         | FL               | USA          | secondary, advanced, groundwater augmentation                      | MF, RO, UV/AOP (unspecified)                                                                        |\n",
       "| Los Angeles                                                                                        | CA               | USA          | tertiary, advanced, groundwater augmentation                       | MF, RO, UV/HOCl                                                                                     |\n",
       "| Perth                                                                                              | Perth            | Australia    | secondary, advanced, groundwater augmentation                      | UF, RO, UV                                                                                          |\n",
       "| Koksijde                                                                                           | West Flanders    | Belgium      | secondary, advanced, groundwater augmentation                      | HOCl, UF, cartridge filtration, RO, UV/H2O2                                                         |\n",
       "| Singapore                                                                                          | NA               | Singapore    | secondary, advanced, reservoir augmentation                        | HOCl, MF, RO, cartridge filtration, UV, HOCl                                                        |\n",
       "| Beaufort West                                                                                      | Western Cape     | South Africa | secondary, advanced, reservoir augmentation                        | HOCl, settling, coagulation, media filtration, UF, RO, UV/H2O2, HOCl                                |\n",
       "| Durban                                                                                             | KwaZulu-Natal    | South Africa | secondary, advanced, DPR (unspecified)                             | MBR, RO                                                                                             |\n",
       "| Barcelona                                                                                          | Barcelona        | Spain        | secondary, advanced, groundwater augmentation                      | filtration (unspecified), UV, UF, RO                                                                |\n",
       "| El Segundo                                                                                         | CA               | USA          | secondary, advanced, groundwater augmentation                      | MF, RO, UV/H2O2                                                                                     |\n",
       "| Abilene                                                                                            | TX               | USA          | advanced, reservoir augmentation                                   | MBR, RO, ozone/BAF, HOCl                                                                            |\n",
       "| Big Spring                                                                                         | TX               | USA          | tertiary, advanced, raw water augmentation                         | MF, RO, UV/H2O2                                                                                     |\n",
       "| El Paso                                                                                            | TX               | USA          | secondary, advanced, treated water augmentation                    | membrane filtration (unspecified), RO, UV/AOP (unspecified), GAC, HOCl                              |\n",
       "| Monterey                                                                                           | CA               | USA          | secondary, advanced, groundwater augmentation                      | ozone, membrane filtration (unspecified), RO, UV/H2O2                                               |\n",
       "| Englewood                                                                                          | CO               | USA          | tertiary, riverbank filtration, groundwater augmentation, advanced | RO, UV/H2O2, air stripping, HOCl                                                                    |\n",
       "| Oceanside                                                                                          | CA               | USA          | secondary, advanced, groundwater augmentation                      | UF, RO, UV/HOCl                                                                                     |\n",
       "| Oxnard                                                                                             | CA               | USA          | secondary, advanced, groundwater augmentation                      | MF, RO, UV/H2O2                                                                                     |\n",
       "| https://www.soquelcreekwater.org/DocumentCenter/View/2074/Pure-Water-Soquel-Engineering-Report-PDF | CA               | USA          | secondary, advanced, groundwater augmentation                      | ozone, MF, RO, UV/H2O2                                                                              |\n",
       "| Fountain Valley                                                                                    | CA               | USA          | secondary, advanced, groundwater augmentation                      | MF, RO, UV/H2O2                                                                                     |\n",
       "| Long Beach                                                                                         | CA               | USA          | tertiary, advanced, groundwater augmentation                       | MF, RO, UV/H2O2, HOCl                                                                               |\n",
       "| Pico Rivera                                                                                        | CA               | USA          | tertiary, advanced, groundwater augmentation                       | UF, RO, UV/HOCl                                                                                     |\n",
       "| San Diego                                                                                          | CA               | USA          | tertiary, advanced, reservoir augmentation                         | ozone/BAF, UF, RO, UV/HOCl                                                                          |\n",
       "| Santa Monica                                                                                       | CA               | USA          | secondary, advanced, groundwater augmentation                      | MBR, cartridge filtration, RO, UV/HOCl, HOCl                                                        |\n",
       "| Phoenix                                                                                            | AZ               | USA          | advanced, groundwater augmentation                                 | grit chamber, filtration (unspecified), MBR, RO, UV/AOP (unspecified)                               |\n",
       "| Santee                                                                                             | CA               | USA          | secondary, advanced, reservoir augmentation                        | membrane filtration (unspecified), RO, UV/HOCl                                                      |\n",
       "| Barcelona                                                                                          | Barcelona        | Spain        | secondary, tertiary, reservoir augmentation, advanced              | HOCl, coagulation, flocculation, media filtration, split: [ozone, GAC] or [UF, RO], recombine: HOCl |\n",
       "| Parañaque City                                                                                     | National Capital | Philippines  | secondary, advanced, treated water augmentation                    | media filtration, UF, RO, HOCl                                                                      |\n",
       "| Ballito                                                                                            | KwaZulu Natal    | South Africa | advanced, treated water augmentation                               | aeration basin, settling, HOCl, media filtration, UF, RO, HOCl, UV, HOCl                            |\n",
       "| Jacksonville                                                                                       | FL               | USA          | tertiary, advanced, groundwater augmentation                       | membrane filtration (unspecified), RO, UV/AOP (unspecified)                                         |\n",
       "| Scottsdale                                                                                         | AZ               | USA          | tertiary, advanced, groundwater augmentation                       | ozone, UF, RO, UV                                                                                   |\n",
       "\n"
      ],
      "text/plain": [
       "   city_AWTP                                                                                         \n",
       "1  Palm Beach                                                                                        \n",
       "2  Los Angeles                                                                                       \n",
       "3  Perth                                                                                             \n",
       "4  Koksijde                                                                                          \n",
       "5  Singapore                                                                                         \n",
       "6  Beaufort West                                                                                     \n",
       "7  Durban                                                                                            \n",
       "8  Barcelona                                                                                         \n",
       "9  El Segundo                                                                                        \n",
       "10 Abilene                                                                                           \n",
       "11 Big Spring                                                                                        \n",
       "12 El Paso                                                                                           \n",
       "13 Monterey                                                                                          \n",
       "14 Englewood                                                                                         \n",
       "15 Oceanside                                                                                         \n",
       "16 Oxnard                                                                                            \n",
       "17 https://www.soquelcreekwater.org/DocumentCenter/View/2074/Pure-Water-Soquel-Engineering-Report-PDF\n",
       "18 Fountain Valley                                                                                   \n",
       "19 Long Beach                                                                                        \n",
       "20 Pico Rivera                                                                                       \n",
       "21 San Diego                                                                                         \n",
       "22 Santa Monica                                                                                      \n",
       "23 Phoenix                                                                                           \n",
       "24 Santee                                                                                            \n",
       "25 Barcelona                                                                                         \n",
       "26 Parañaque City                                                                                    \n",
       "27 Ballito                                                                                           \n",
       "28 Jacksonville                                                                                      \n",
       "29 Scottsdale                                                                                        \n",
       "   state_region_provence country     \n",
       "1  FL                    USA         \n",
       "2  CA                    USA         \n",
       "3  Perth                 Australia   \n",
       "4  West Flanders         Belgium     \n",
       "5  NA                    Singapore   \n",
       "6  Western Cape          South Africa\n",
       "7  KwaZulu-Natal         South Africa\n",
       "8  Barcelona             Spain       \n",
       "9  CA                    USA         \n",
       "10 TX                    USA         \n",
       "11 TX                    USA         \n",
       "12 TX                    USA         \n",
       "13 CA                    USA         \n",
       "14 CO                    USA         \n",
       "15 CA                    USA         \n",
       "16 CA                    USA         \n",
       "17 CA                    USA         \n",
       "18 CA                    USA         \n",
       "19 CA                    USA         \n",
       "20 CA                    USA         \n",
       "21 CA                    USA         \n",
       "22 CA                    USA         \n",
       "23 AZ                    USA         \n",
       "24 CA                    USA         \n",
       "25 Barcelona             Spain       \n",
       "26 National Capital      Philippines \n",
       "27 KwaZulu Natal         South Africa\n",
       "28 FL                    USA         \n",
       "29 AZ                    USA         \n",
       "   max_treatment_per_facility_RO                                     \n",
       "1  secondary, advanced, groundwater augmentation                     \n",
       "2  tertiary, advanced, groundwater augmentation                      \n",
       "3  secondary, advanced, groundwater augmentation                     \n",
       "4  secondary, advanced, groundwater augmentation                     \n",
       "5  secondary, advanced, reservoir augmentation                       \n",
       "6  secondary, advanced, reservoir augmentation                       \n",
       "7  secondary, advanced, DPR (unspecified)                            \n",
       "8  secondary, advanced, groundwater augmentation                     \n",
       "9  secondary, advanced, groundwater augmentation                     \n",
       "10 advanced, reservoir augmentation                                  \n",
       "11 tertiary, advanced, raw water augmentation                        \n",
       "12 secondary, advanced, treated water augmentation                   \n",
       "13 secondary, advanced, groundwater augmentation                     \n",
       "14 tertiary, riverbank filtration, groundwater augmentation, advanced\n",
       "15 secondary, advanced, groundwater augmentation                     \n",
       "16 secondary, advanced, groundwater augmentation                     \n",
       "17 secondary, advanced, groundwater augmentation                     \n",
       "18 secondary, advanced, groundwater augmentation                     \n",
       "19 tertiary, advanced, groundwater augmentation                      \n",
       "20 tertiary, advanced, groundwater augmentation                      \n",
       "21 tertiary, advanced, reservoir augmentation                        \n",
       "22 secondary, advanced, groundwater augmentation                     \n",
       "23 advanced, groundwater augmentation                                \n",
       "24 secondary, advanced, reservoir augmentation                       \n",
       "25 secondary, tertiary, reservoir augmentation, advanced             \n",
       "26 secondary, advanced, treated water augmentation                   \n",
       "27 advanced, treated water augmentation                              \n",
       "28 tertiary, advanced, groundwater augmentation                      \n",
       "29 tertiary, advanced, groundwater augmentation                      \n",
       "   advanced_treatment_detail_RO                                                                       \n",
       "1  MF, RO, UV/AOP (unspecified)                                                                       \n",
       "2  MF, RO, UV/HOCl                                                                                    \n",
       "3  UF, RO, UV                                                                                         \n",
       "4  HOCl, UF, cartridge filtration, RO, UV/H2O2                                                        \n",
       "5  HOCl, MF, RO, cartridge filtration, UV, HOCl                                                       \n",
       "6  HOCl, settling, coagulation, media filtration, UF, RO, UV/H2O2, HOCl                               \n",
       "7  MBR, RO                                                                                            \n",
       "8  filtration (unspecified), UV, UF, RO                                                               \n",
       "9  MF, RO, UV/H2O2                                                                                    \n",
       "10 MBR, RO, ozone/BAF, HOCl                                                                           \n",
       "11 MF, RO, UV/H2O2                                                                                    \n",
       "12 membrane filtration (unspecified), RO, UV/AOP (unspecified), GAC, HOCl                             \n",
       "13 ozone, membrane filtration (unspecified), RO, UV/H2O2                                              \n",
       "14 RO, UV/H2O2, air stripping, HOCl                                                                   \n",
       "15 UF, RO, UV/HOCl                                                                                    \n",
       "16 MF, RO, UV/H2O2                                                                                    \n",
       "17 ozone, MF, RO, UV/H2O2                                                                             \n",
       "18 MF, RO, UV/H2O2                                                                                    \n",
       "19 MF, RO, UV/H2O2, HOCl                                                                              \n",
       "20 UF, RO, UV/HOCl                                                                                    \n",
       "21 ozone/BAF, UF, RO, UV/HOCl                                                                         \n",
       "22 MBR, cartridge filtration, RO, UV/HOCl, HOCl                                                       \n",
       "23 grit chamber, filtration (unspecified), MBR, RO, UV/AOP (unspecified)                              \n",
       "24 membrane filtration (unspecified), RO, UV/HOCl                                                     \n",
       "25 HOCl, coagulation, flocculation, media filtration, split: [ozone, GAC] or [UF, RO], recombine: HOCl\n",
       "26 media filtration, UF, RO, HOCl                                                                     \n",
       "27 aeration basin, settling, HOCl, media filtration, UF, RO, HOCl, UV, HOCl                           \n",
       "28 membrane filtration (unspecified), RO, UV/AOP (unspecified)                                        \n",
       "29 ozone, UF, RO, UV                                                                                  "
      ]
     },
     "metadata": {},
     "output_type": "display_data"
    },
    {
     "data": {
      "text/html": [
       "FALSE"
      ],
      "text/latex": [
       "FALSE"
      ],
      "text/markdown": [
       "FALSE"
      ],
      "text/plain": [
       "[1] FALSE"
      ]
     },
     "metadata": {},
     "output_type": "display_data"
    },
    {
     "name": "stdout",
     "output_type": "stream",
     "text": [
      "\n",
      "<table style=\"text-align:center\"><tr><td colspan=\"5\" style=\"border-bottom: 1px solid black\"></td></tr><tr><td style=\"text-align:left\">city_AWTP</td><td>state_region_provence</td><td>country</td><td>max_treatment_per_facility_RO</td><td>advanced_treatment_detail_RO</td></tr>\n",
      "<tr><td colspan=\"5\" style=\"border-bottom: 1px solid black\"></td></tr><tr><td style=\"text-align:left\">Palm Beach</td><td>FL</td><td>USA</td><td>secondary, advanced, groundwater augmentation</td><td>MF, RO, UV/AOP (unspecified)</td></tr>\n",
      "<tr><td style=\"text-align:left\">Los Angeles</td><td>CA</td><td>USA</td><td>tertiary, advanced, groundwater augmentation</td><td>MF, RO, UV/HOCl</td></tr>\n",
      "<tr><td style=\"text-align:left\">Perth</td><td>Perth</td><td>Australia</td><td>secondary, advanced, groundwater augmentation</td><td>UF, RO, UV</td></tr>\n",
      "<tr><td style=\"text-align:left\">Koksijde</td><td>West Flanders</td><td>Belgium</td><td>secondary, advanced, groundwater augmentation</td><td>HOCl, UF, cartridge filtration, RO, UV/H2O2</td></tr>\n",
      "<tr><td style=\"text-align:left\">Singapore</td><td>NA</td><td>Singapore</td><td>secondary, advanced, reservoir augmentation</td><td>HOCl, MF, RO, cartridge filtration, UV, HOCl</td></tr>\n",
      "<tr><td style=\"text-align:left\">Beaufort West</td><td>Western Cape</td><td>South Africa</td><td>secondary, advanced, reservoir augmentation</td><td>HOCl, settling, coagulation, media filtration, UF, RO, UV/H2O2, HOCl</td></tr>\n",
      "<tr><td style=\"text-align:left\">Durban</td><td>KwaZulu-Natal</td><td>South Africa</td><td>secondary, advanced, DPR (unspecified)</td><td>MBR, RO</td></tr>\n",
      "<tr><td style=\"text-align:left\">Barcelona</td><td>Barcelona</td><td>Spain</td><td>secondary, advanced, groundwater augmentation</td><td>filtration (unspecified), UV, UF, RO</td></tr>\n",
      "<tr><td style=\"text-align:left\">El Segundo</td><td>CA</td><td>USA</td><td>secondary, advanced, groundwater augmentation</td><td>MF, RO, UV/H2O2</td></tr>\n",
      "<tr><td style=\"text-align:left\">Abilene</td><td>TX</td><td>USA</td><td>advanced, reservoir augmentation</td><td>MBR, RO, ozone/BAF, HOCl</td></tr>\n",
      "<tr><td style=\"text-align:left\">Big Spring</td><td>TX</td><td>USA</td><td>tertiary, advanced, raw water augmentation</td><td>MF, RO, UV/H2O2</td></tr>\n",
      "<tr><td style=\"text-align:left\">El Paso</td><td>TX</td><td>USA</td><td>secondary, advanced, treated water augmentation</td><td>membrane filtration (unspecified), RO, UV/AOP (unspecified), GAC, HOCl</td></tr>\n",
      "<tr><td style=\"text-align:left\">Monterey</td><td>CA</td><td>USA</td><td>secondary, advanced, groundwater augmentation</td><td>ozone, membrane filtration (unspecified), RO, UV/H2O2</td></tr>\n",
      "<tr><td style=\"text-align:left\">Englewood</td><td>CO</td><td>USA</td><td>tertiary, riverbank filtration, groundwater augmentation, advanced</td><td>RO, UV/H2O2, air stripping, HOCl</td></tr>\n",
      "<tr><td style=\"text-align:left\">Oceanside</td><td>CA</td><td>USA</td><td>secondary, advanced, groundwater augmentation</td><td>UF, RO, UV/HOCl</td></tr>\n",
      "<tr><td style=\"text-align:left\">Oxnard</td><td>CA</td><td>USA</td><td>secondary, advanced, groundwater augmentation</td><td>MF, RO, UV/H2O2</td></tr>\n",
      "<tr><td style=\"text-align:left\">https://www.soquelcreekwater.org/DocumentCenter/View/2074/Pure-Water-Soquel-Engineering-Report-PDF</td><td>CA</td><td>USA</td><td>secondary, advanced, groundwater augmentation</td><td>ozone, MF, RO, UV/H2O2</td></tr>\n",
      "<tr><td style=\"text-align:left\">Fountain Valley</td><td>CA</td><td>USA</td><td>secondary, advanced, groundwater augmentation</td><td>MF, RO, UV/H2O2</td></tr>\n",
      "<tr><td style=\"text-align:left\">Long Beach</td><td>CA</td><td>USA</td><td>tertiary, advanced, groundwater augmentation</td><td>MF, RO, UV/H2O2, HOCl</td></tr>\n",
      "<tr><td style=\"text-align:left\">Pico Rivera</td><td>CA</td><td>USA</td><td>tertiary, advanced, groundwater augmentation</td><td>UF, RO, UV/HOCl</td></tr>\n",
      "<tr><td style=\"text-align:left\">San Diego</td><td>CA</td><td>USA</td><td>tertiary, advanced, reservoir augmentation</td><td>ozone/BAF, UF, RO, UV/HOCl</td></tr>\n",
      "<tr><td style=\"text-align:left\">Santa Monica</td><td>CA</td><td>USA</td><td>secondary, advanced, groundwater augmentation</td><td>MBR, cartridge filtration, RO, UV/HOCl, HOCl</td></tr>\n",
      "<tr><td style=\"text-align:left\">Phoenix</td><td>AZ</td><td>USA</td><td>advanced, groundwater augmentation</td><td>grit chamber, filtration (unspecified), MBR, RO, UV/AOP (unspecified)</td></tr>\n",
      "<tr><td style=\"text-align:left\">Santee</td><td>CA</td><td>USA</td><td>secondary, advanced, reservoir augmentation</td><td>membrane filtration (unspecified), RO, UV/HOCl</td></tr>\n",
      "<tr><td style=\"text-align:left\">Barcelona</td><td>Barcelona</td><td>Spain</td><td>secondary, tertiary, reservoir augmentation, advanced</td><td>HOCl, coagulation, flocculation, media filtration, split: [ozone, GAC] or [UF, RO], recombine: HOCl</td></tr>\n",
      "<tr><td style=\"text-align:left\">Parañaque City</td><td>National Capital</td><td>Philippines</td><td>secondary, advanced, treated water augmentation</td><td>media filtration, UF, RO, HOCl</td></tr>\n",
      "<tr><td style=\"text-align:left\">Ballito</td><td>KwaZulu Natal</td><td>South Africa</td><td>advanced, treated water augmentation</td><td>aeration basin, settling, HOCl, media filtration, UF, RO, HOCl, UV, HOCl</td></tr>\n",
      "<tr><td style=\"text-align:left\">Jacksonville</td><td>FL</td><td>USA</td><td>tertiary, advanced, groundwater augmentation</td><td>membrane filtration (unspecified), RO, UV/AOP (unspecified)</td></tr>\n",
      "<tr><td style=\"text-align:left\">Scottsdale</td><td>AZ</td><td>USA</td><td>tertiary, advanced, groundwater augmentation</td><td>ozone, UF, RO, UV</td></tr>\n",
      "<tr><td colspan=\"5\" style=\"border-bottom: 1px solid black\"></td></tr></table>\n"
     ]
    }
   ],
   "source": [
    "# ro table \"max_treatment_per_facility_RO\",?\n",
    "table_s2<- roc_ro[order(roc_ro$detail_PR_type, roc_ro$country,roc_ro$state_region_provence,roc_ro$city_AWTP ),c(\"detail_PR_type\",\"city_AWTP\", \"state_region_provence\", \"country\",\"max_treatment_per_facility_RO\", \"advanced_treatment_detail_RO\")]\n",
    "table_s2<- roc_ro[,c(\"city_AWTP\", \"state_region_provence\", \"country\",\"max_treatment_per_facility_RO\", \"advanced_treatment_detail_RO\")]\n",
    "\n",
    "table_s2\n",
    "unique(duplicated(table_s2)) #no repeats\n",
    "\n",
    "name=\"TableS2.doc\" #name the file\n",
    "stargazer(table_s2,type=\"html\", summary=FALSE, rownames=FALSE, out=paste(path,name, sep=\"\"))"
   ]
  },
  {
   "cell_type": "code",
   "execution_count": 8,
   "metadata": {},
   "outputs": [
    {
     "data": {
      "text/html": [
       "<table class=\"dataframe\">\n",
       "<caption>A tibble: 29 × 7</caption>\n",
       "<thead>\n",
       "\t<tr><th scope=col>city_AWTP</th><th scope=col>state_region_provence</th><th scope=col>country</th><th scope=col>inland_coastal_40mi</th><th scope=col>upstream_RO</th><th scope=col>concentrate_treatment</th><th scope=col>RO_concentrate_management</th></tr>\n",
       "\t<tr><th scope=col>&lt;chr&gt;</th><th scope=col>&lt;chr&gt;</th><th scope=col>&lt;chr&gt;</th><th scope=col>&lt;chr&gt;</th><th scope=col>&lt;chr&gt;</th><th scope=col>&lt;chr&gt;</th><th scope=col>&lt;chr&gt;</th></tr>\n",
       "</thead>\n",
       "<tbody>\n",
       "\t<tr><td>Palm Beach                                                                                        </td><td>FL              </td><td>USA         </td><td>Coastal</td><td>MF                               </td><td>none reported                    </td><td>deep well injection                 </td></tr>\n",
       "\t<tr><td>Los Angeles                                                                                       </td><td>CA              </td><td>USA         </td><td>Coastal</td><td>MF                               </td><td>none reported                    </td><td>deep well injection; ocean discharge</td></tr>\n",
       "\t<tr><td>Perth                                                                                             </td><td>Perth           </td><td>Australia   </td><td>Coastal</td><td>UF                               </td><td>neutralization tank (unspecified)</td><td>ocean discharge                     </td></tr>\n",
       "\t<tr><td>Koksijde                                                                                          </td><td>West Flanders   </td><td>Belgium     </td><td>Coastal</td><td>UF, cartridge filtration         </td><td>constructed wetland              </td><td>ocean discharge                     </td></tr>\n",
       "\t<tr><td>Singapore                                                                                         </td><td>NA              </td><td>Singapore   </td><td>Coastal</td><td>MF                               </td><td>none reported                    </td><td>ocean discharge                     </td></tr>\n",
       "\t<tr><td>Durban                                                                                            </td><td>KwaZulu-Natal   </td><td>South Africa</td><td>Coastal</td><td>MBR                              </td><td>none reported                    </td><td>ocean discharge                     </td></tr>\n",
       "\t<tr><td>Barcelona                                                                                         </td><td>Barcelona       </td><td>Spain       </td><td>Coastal</td><td>UF                               </td><td>none reported                    </td><td>ocean discharge                     </td></tr>\n",
       "\t<tr><td>El Segundo                                                                                        </td><td>CA              </td><td>USA         </td><td>Coastal</td><td>MF                               </td><td>none reported                    </td><td>ocean discharge                     </td></tr>\n",
       "\t<tr><td>https://www.soquelcreekwater.org/DocumentCenter/View/2074/Pure-Water-Soquel-Engineering-Report-PDF</td><td>CA              </td><td>USA         </td><td>Coastal</td><td>MF                               </td><td>none reported                    </td><td>ocean discharge                     </td></tr>\n",
       "\t<tr><td>Monterey                                                                                          </td><td>CA              </td><td>USA         </td><td>Coastal</td><td>membrane filtration (unspecified)</td><td>none reported                    </td><td>ocean discharge                     </td></tr>\n",
       "\t<tr><td>Oceanside                                                                                         </td><td>CA              </td><td>USA         </td><td>Coastal</td><td>UF                               </td><td>none reported                    </td><td>ocean discharge                     </td></tr>\n",
       "\t<tr><td>Oxnard                                                                                            </td><td>CA              </td><td>USA         </td><td>Coastal</td><td>MF                               </td><td>none reported                    </td><td>ocean discharge                     </td></tr>\n",
       "\t<tr><td>Fountain Valley                                                                                   </td><td>CA              </td><td>USA         </td><td>Coastal</td><td>MF                               </td><td>conventional wastewater treatment</td><td>sewer discharge                     </td></tr>\n",
       "\t<tr><td>Long Beach                                                                                        </td><td>CA              </td><td>USA         </td><td>Coastal</td><td>MF                               </td><td>conventional wastewater treatment</td><td>sewer discharge                     </td></tr>\n",
       "\t<tr><td>Pico Rivera                                                                                       </td><td>CA              </td><td>USA         </td><td>Coastal</td><td>UF                               </td><td>conventional wastewater treatment</td><td>sewer discharge                     </td></tr>\n",
       "\t<tr><td>San Diego                                                                                         </td><td>CA              </td><td>USA         </td><td>Coastal</td><td>UF                               </td><td>conventional wastewater treatment</td><td>sewer discharge                     </td></tr>\n",
       "\t<tr><td>Santa Monica                                                                                      </td><td>CA              </td><td>USA         </td><td>Coastal</td><td>MBR, cartridge filtration        </td><td>conventional wastewater treatment</td><td>sewer discharge                     </td></tr>\n",
       "\t<tr><td>Santee                                                                                            </td><td>CA              </td><td>USA         </td><td>Coastal</td><td>membrane filtration (unspecified)</td><td>conventional wastewater treatment</td><td>sewer discharge                     </td></tr>\n",
       "\t<tr><td>Barcelona                                                                                         </td><td>Barcelona       </td><td>Spain       </td><td>Coastal</td><td>UF                               </td><td>none reported                    </td><td>surface water discharge             </td></tr>\n",
       "\t<tr><td>Parañaque City                                                                                    </td><td>National Capital</td><td>Philippines </td><td>Coastal</td><td>UF                               </td><td>unknown                          </td><td>unknown                             </td></tr>\n",
       "\t<tr><td>Ballito                                                                                           </td><td>KwaZulu Natal   </td><td>South Africa</td><td>Coastal</td><td>UF                               </td><td>water recovery; maturation pond  </td><td>unknown                             </td></tr>\n",
       "\t<tr><td>Jacksonville                                                                                      </td><td>FL              </td><td>USA         </td><td>Coastal</td><td>membrane filtration (unspecified)</td><td>unknown                          </td><td>unknown                             </td></tr>\n",
       "\t<tr><td>Phoenix                                                                                           </td><td>AZ              </td><td>USA         </td><td>Inland </td><td>MBR                              </td><td>conventional wastewater treatment</td><td>sewer discharge                     </td></tr>\n",
       "\t<tr><td>Scottsdale                                                                                        </td><td>AZ              </td><td>USA         </td><td>Inland </td><td>UF                               </td><td>conventional wastewater treatment</td><td>sewer discharge                     </td></tr>\n",
       "\t<tr><td>Englewood                                                                                         </td><td>CO              </td><td>USA         </td><td>Inland </td><td>None                             </td><td>coagulation, MF, trickling filter</td><td>surface water discharge             </td></tr>\n",
       "\t<tr><td>Abilene                                                                                           </td><td>TX              </td><td>USA         </td><td>Inland </td><td>MBR                              </td><td>chlorination                     </td><td>surface water discharge             </td></tr>\n",
       "\t<tr><td>Big Spring                                                                                        </td><td>TX              </td><td>USA         </td><td>Inland </td><td>MF                               </td><td>none reported                    </td><td>surface water discharge             </td></tr>\n",
       "\t<tr><td>El Paso                                                                                           </td><td>TX              </td><td>USA         </td><td>Inland </td><td>membrane filtration (unspecified)</td><td>none reported                    </td><td>surface water discharge             </td></tr>\n",
       "\t<tr><td>Beaufort West                                                                                     </td><td>Western Cape    </td><td>South Africa</td><td>Inland </td><td>UF                               </td><td>maturation pond                  </td><td>unknown                             </td></tr>\n",
       "</tbody>\n",
       "</table>\n"
      ],
      "text/latex": [
       "A tibble: 29 × 7\n",
       "\\begin{tabular}{lllllll}\n",
       " city\\_AWTP & state\\_region\\_provence & country & inland\\_coastal\\_40mi & upstream\\_RO & concentrate\\_treatment & RO\\_concentrate\\_management\\\\\n",
       " <chr> & <chr> & <chr> & <chr> & <chr> & <chr> & <chr>\\\\\n",
       "\\hline\n",
       "\t Palm Beach                                                                                         & FL               & USA          & Coastal & MF                                & none reported                     & deep well injection                 \\\\\n",
       "\t Los Angeles                                                                                        & CA               & USA          & Coastal & MF                                & none reported                     & deep well injection; ocean discharge\\\\\n",
       "\t Perth                                                                                              & Perth            & Australia    & Coastal & UF                                & neutralization tank (unspecified) & ocean discharge                     \\\\\n",
       "\t Koksijde                                                                                           & West Flanders    & Belgium      & Coastal & UF, cartridge filtration          & constructed wetland               & ocean discharge                     \\\\\n",
       "\t Singapore                                                                                          & NA               & Singapore    & Coastal & MF                                & none reported                     & ocean discharge                     \\\\\n",
       "\t Durban                                                                                             & KwaZulu-Natal    & South Africa & Coastal & MBR                               & none reported                     & ocean discharge                     \\\\\n",
       "\t Barcelona                                                                                          & Barcelona        & Spain        & Coastal & UF                                & none reported                     & ocean discharge                     \\\\\n",
       "\t El Segundo                                                                                         & CA               & USA          & Coastal & MF                                & none reported                     & ocean discharge                     \\\\\n",
       "\t https://www.soquelcreekwater.org/DocumentCenter/View/2074/Pure-Water-Soquel-Engineering-Report-PDF & CA               & USA          & Coastal & MF                                & none reported                     & ocean discharge                     \\\\\n",
       "\t Monterey                                                                                           & CA               & USA          & Coastal & membrane filtration (unspecified) & none reported                     & ocean discharge                     \\\\\n",
       "\t Oceanside                                                                                          & CA               & USA          & Coastal & UF                                & none reported                     & ocean discharge                     \\\\\n",
       "\t Oxnard                                                                                             & CA               & USA          & Coastal & MF                                & none reported                     & ocean discharge                     \\\\\n",
       "\t Fountain Valley                                                                                    & CA               & USA          & Coastal & MF                                & conventional wastewater treatment & sewer discharge                     \\\\\n",
       "\t Long Beach                                                                                         & CA               & USA          & Coastal & MF                                & conventional wastewater treatment & sewer discharge                     \\\\\n",
       "\t Pico Rivera                                                                                        & CA               & USA          & Coastal & UF                                & conventional wastewater treatment & sewer discharge                     \\\\\n",
       "\t San Diego                                                                                          & CA               & USA          & Coastal & UF                                & conventional wastewater treatment & sewer discharge                     \\\\\n",
       "\t Santa Monica                                                                                       & CA               & USA          & Coastal & MBR, cartridge filtration         & conventional wastewater treatment & sewer discharge                     \\\\\n",
       "\t Santee                                                                                             & CA               & USA          & Coastal & membrane filtration (unspecified) & conventional wastewater treatment & sewer discharge                     \\\\\n",
       "\t Barcelona                                                                                          & Barcelona        & Spain        & Coastal & UF                                & none reported                     & surface water discharge             \\\\\n",
       "\t Parañaque City                                                                                     & National Capital & Philippines  & Coastal & UF                                & unknown                           & unknown                             \\\\\n",
       "\t Ballito                                                                                            & KwaZulu Natal    & South Africa & Coastal & UF                                & water recovery; maturation pond   & unknown                             \\\\\n",
       "\t Jacksonville                                                                                       & FL               & USA          & Coastal & membrane filtration (unspecified) & unknown                           & unknown                             \\\\\n",
       "\t Phoenix                                                                                            & AZ               & USA          & Inland  & MBR                               & conventional wastewater treatment & sewer discharge                     \\\\\n",
       "\t Scottsdale                                                                                         & AZ               & USA          & Inland  & UF                                & conventional wastewater treatment & sewer discharge                     \\\\\n",
       "\t Englewood                                                                                          & CO               & USA          & Inland  & None                              & coagulation, MF, trickling filter & surface water discharge             \\\\\n",
       "\t Abilene                                                                                            & TX               & USA          & Inland  & MBR                               & chlorination                      & surface water discharge             \\\\\n",
       "\t Big Spring                                                                                         & TX               & USA          & Inland  & MF                                & none reported                     & surface water discharge             \\\\\n",
       "\t El Paso                                                                                            & TX               & USA          & Inland  & membrane filtration (unspecified) & none reported                     & surface water discharge             \\\\\n",
       "\t Beaufort West                                                                                      & Western Cape     & South Africa & Inland  & UF                                & maturation pond                   & unknown                             \\\\\n",
       "\\end{tabular}\n"
      ],
      "text/markdown": [
       "\n",
       "A tibble: 29 × 7\n",
       "\n",
       "| city_AWTP &lt;chr&gt; | state_region_provence &lt;chr&gt; | country &lt;chr&gt; | inland_coastal_40mi &lt;chr&gt; | upstream_RO &lt;chr&gt; | concentrate_treatment &lt;chr&gt; | RO_concentrate_management &lt;chr&gt; |\n",
       "|---|---|---|---|---|---|---|\n",
       "| Palm Beach                                                                                         | FL               | USA          | Coastal | MF                                | none reported                     | deep well injection                  |\n",
       "| Los Angeles                                                                                        | CA               | USA          | Coastal | MF                                | none reported                     | deep well injection; ocean discharge |\n",
       "| Perth                                                                                              | Perth            | Australia    | Coastal | UF                                | neutralization tank (unspecified) | ocean discharge                      |\n",
       "| Koksijde                                                                                           | West Flanders    | Belgium      | Coastal | UF, cartridge filtration          | constructed wetland               | ocean discharge                      |\n",
       "| Singapore                                                                                          | NA               | Singapore    | Coastal | MF                                | none reported                     | ocean discharge                      |\n",
       "| Durban                                                                                             | KwaZulu-Natal    | South Africa | Coastal | MBR                               | none reported                     | ocean discharge                      |\n",
       "| Barcelona                                                                                          | Barcelona        | Spain        | Coastal | UF                                | none reported                     | ocean discharge                      |\n",
       "| El Segundo                                                                                         | CA               | USA          | Coastal | MF                                | none reported                     | ocean discharge                      |\n",
       "| https://www.soquelcreekwater.org/DocumentCenter/View/2074/Pure-Water-Soquel-Engineering-Report-PDF | CA               | USA          | Coastal | MF                                | none reported                     | ocean discharge                      |\n",
       "| Monterey                                                                                           | CA               | USA          | Coastal | membrane filtration (unspecified) | none reported                     | ocean discharge                      |\n",
       "| Oceanside                                                                                          | CA               | USA          | Coastal | UF                                | none reported                     | ocean discharge                      |\n",
       "| Oxnard                                                                                             | CA               | USA          | Coastal | MF                                | none reported                     | ocean discharge                      |\n",
       "| Fountain Valley                                                                                    | CA               | USA          | Coastal | MF                                | conventional wastewater treatment | sewer discharge                      |\n",
       "| Long Beach                                                                                         | CA               | USA          | Coastal | MF                                | conventional wastewater treatment | sewer discharge                      |\n",
       "| Pico Rivera                                                                                        | CA               | USA          | Coastal | UF                                | conventional wastewater treatment | sewer discharge                      |\n",
       "| San Diego                                                                                          | CA               | USA          | Coastal | UF                                | conventional wastewater treatment | sewer discharge                      |\n",
       "| Santa Monica                                                                                       | CA               | USA          | Coastal | MBR, cartridge filtration         | conventional wastewater treatment | sewer discharge                      |\n",
       "| Santee                                                                                             | CA               | USA          | Coastal | membrane filtration (unspecified) | conventional wastewater treatment | sewer discharge                      |\n",
       "| Barcelona                                                                                          | Barcelona        | Spain        | Coastal | UF                                | none reported                     | surface water discharge              |\n",
       "| Parañaque City                                                                                     | National Capital | Philippines  | Coastal | UF                                | unknown                           | unknown                              |\n",
       "| Ballito                                                                                            | KwaZulu Natal    | South Africa | Coastal | UF                                | water recovery; maturation pond   | unknown                              |\n",
       "| Jacksonville                                                                                       | FL               | USA          | Coastal | membrane filtration (unspecified) | unknown                           | unknown                              |\n",
       "| Phoenix                                                                                            | AZ               | USA          | Inland  | MBR                               | conventional wastewater treatment | sewer discharge                      |\n",
       "| Scottsdale                                                                                         | AZ               | USA          | Inland  | UF                                | conventional wastewater treatment | sewer discharge                      |\n",
       "| Englewood                                                                                          | CO               | USA          | Inland  | None                              | coagulation, MF, trickling filter | surface water discharge              |\n",
       "| Abilene                                                                                            | TX               | USA          | Inland  | MBR                               | chlorination                      | surface water discharge              |\n",
       "| Big Spring                                                                                         | TX               | USA          | Inland  | MF                                | none reported                     | surface water discharge              |\n",
       "| El Paso                                                                                            | TX               | USA          | Inland  | membrane filtration (unspecified) | none reported                     | surface water discharge              |\n",
       "| Beaufort West                                                                                      | Western Cape     | South Africa | Inland  | UF                                | maturation pond                   | unknown                              |\n",
       "\n"
      ],
      "text/plain": [
       "   city_AWTP                                                                                         \n",
       "1  Palm Beach                                                                                        \n",
       "2  Los Angeles                                                                                       \n",
       "3  Perth                                                                                             \n",
       "4  Koksijde                                                                                          \n",
       "5  Singapore                                                                                         \n",
       "6  Durban                                                                                            \n",
       "7  Barcelona                                                                                         \n",
       "8  El Segundo                                                                                        \n",
       "9  https://www.soquelcreekwater.org/DocumentCenter/View/2074/Pure-Water-Soquel-Engineering-Report-PDF\n",
       "10 Monterey                                                                                          \n",
       "11 Oceanside                                                                                         \n",
       "12 Oxnard                                                                                            \n",
       "13 Fountain Valley                                                                                   \n",
       "14 Long Beach                                                                                        \n",
       "15 Pico Rivera                                                                                       \n",
       "16 San Diego                                                                                         \n",
       "17 Santa Monica                                                                                      \n",
       "18 Santee                                                                                            \n",
       "19 Barcelona                                                                                         \n",
       "20 Parañaque City                                                                                    \n",
       "21 Ballito                                                                                           \n",
       "22 Jacksonville                                                                                      \n",
       "23 Phoenix                                                                                           \n",
       "24 Scottsdale                                                                                        \n",
       "25 Englewood                                                                                         \n",
       "26 Abilene                                                                                           \n",
       "27 Big Spring                                                                                        \n",
       "28 El Paso                                                                                           \n",
       "29 Beaufort West                                                                                     \n",
       "   state_region_provence country      inland_coastal_40mi\n",
       "1  FL                    USA          Coastal            \n",
       "2  CA                    USA          Coastal            \n",
       "3  Perth                 Australia    Coastal            \n",
       "4  West Flanders         Belgium      Coastal            \n",
       "5  NA                    Singapore    Coastal            \n",
       "6  KwaZulu-Natal         South Africa Coastal            \n",
       "7  Barcelona             Spain        Coastal            \n",
       "8  CA                    USA          Coastal            \n",
       "9  CA                    USA          Coastal            \n",
       "10 CA                    USA          Coastal            \n",
       "11 CA                    USA          Coastal            \n",
       "12 CA                    USA          Coastal            \n",
       "13 CA                    USA          Coastal            \n",
       "14 CA                    USA          Coastal            \n",
       "15 CA                    USA          Coastal            \n",
       "16 CA                    USA          Coastal            \n",
       "17 CA                    USA          Coastal            \n",
       "18 CA                    USA          Coastal            \n",
       "19 Barcelona             Spain        Coastal            \n",
       "20 National Capital      Philippines  Coastal            \n",
       "21 KwaZulu Natal         South Africa Coastal            \n",
       "22 FL                    USA          Coastal            \n",
       "23 AZ                    USA          Inland             \n",
       "24 AZ                    USA          Inland             \n",
       "25 CO                    USA          Inland             \n",
       "26 TX                    USA          Inland             \n",
       "27 TX                    USA          Inland             \n",
       "28 TX                    USA          Inland             \n",
       "29 Western Cape          South Africa Inland             \n",
       "   upstream_RO                       concentrate_treatment            \n",
       "1  MF                                none reported                    \n",
       "2  MF                                none reported                    \n",
       "3  UF                                neutralization tank (unspecified)\n",
       "4  UF, cartridge filtration          constructed wetland              \n",
       "5  MF                                none reported                    \n",
       "6  MBR                               none reported                    \n",
       "7  UF                                none reported                    \n",
       "8  MF                                none reported                    \n",
       "9  MF                                none reported                    \n",
       "10 membrane filtration (unspecified) none reported                    \n",
       "11 UF                                none reported                    \n",
       "12 MF                                none reported                    \n",
       "13 MF                                conventional wastewater treatment\n",
       "14 MF                                conventional wastewater treatment\n",
       "15 UF                                conventional wastewater treatment\n",
       "16 UF                                conventional wastewater treatment\n",
       "17 MBR, cartridge filtration         conventional wastewater treatment\n",
       "18 membrane filtration (unspecified) conventional wastewater treatment\n",
       "19 UF                                none reported                    \n",
       "20 UF                                unknown                          \n",
       "21 UF                                water recovery; maturation pond  \n",
       "22 membrane filtration (unspecified) unknown                          \n",
       "23 MBR                               conventional wastewater treatment\n",
       "24 UF                                conventional wastewater treatment\n",
       "25 None                              coagulation, MF, trickling filter\n",
       "26 MBR                               chlorination                     \n",
       "27 MF                                none reported                    \n",
       "28 membrane filtration (unspecified) none reported                    \n",
       "29 UF                                maturation pond                  \n",
       "   RO_concentrate_management           \n",
       "1  deep well injection                 \n",
       "2  deep well injection; ocean discharge\n",
       "3  ocean discharge                     \n",
       "4  ocean discharge                     \n",
       "5  ocean discharge                     \n",
       "6  ocean discharge                     \n",
       "7  ocean discharge                     \n",
       "8  ocean discharge                     \n",
       "9  ocean discharge                     \n",
       "10 ocean discharge                     \n",
       "11 ocean discharge                     \n",
       "12 ocean discharge                     \n",
       "13 sewer discharge                     \n",
       "14 sewer discharge                     \n",
       "15 sewer discharge                     \n",
       "16 sewer discharge                     \n",
       "17 sewer discharge                     \n",
       "18 sewer discharge                     \n",
       "19 surface water discharge             \n",
       "20 unknown                             \n",
       "21 unknown                             \n",
       "22 unknown                             \n",
       "23 sewer discharge                     \n",
       "24 sewer discharge                     \n",
       "25 surface water discharge             \n",
       "26 surface water discharge             \n",
       "27 surface water discharge             \n",
       "28 surface water discharge             \n",
       "29 unknown                             "
      ]
     },
     "metadata": {},
     "output_type": "display_data"
    },
    {
     "data": {
      "text/html": [
       "FALSE"
      ],
      "text/latex": [
       "FALSE"
      ],
      "text/markdown": [
       "FALSE"
      ],
      "text/plain": [
       "[1] FALSE"
      ]
     },
     "metadata": {},
     "output_type": "display_data"
    },
    {
     "name": "stdout",
     "output_type": "stream",
     "text": [
      "\n",
      "<table style=\"text-align:center\"><tr><td colspan=\"7\" style=\"border-bottom: 1px solid black\"></td></tr><tr><td style=\"text-align:left\">city_AWTP</td><td>state_region_provence</td><td>country</td><td>inland_coastal_40mi</td><td>upstream_RO</td><td>concentrate_treatment</td><td>RO_concentrate_management</td></tr>\n",
      "<tr><td colspan=\"7\" style=\"border-bottom: 1px solid black\"></td></tr><tr><td style=\"text-align:left\">Palm Beach</td><td>FL</td><td>USA</td><td>Coastal</td><td>MF</td><td>none reported</td><td>deep well injection</td></tr>\n",
      "<tr><td style=\"text-align:left\">Los Angeles</td><td>CA</td><td>USA</td><td>Coastal</td><td>MF</td><td>none reported</td><td>deep well injection; ocean discharge</td></tr>\n",
      "<tr><td style=\"text-align:left\">Perth</td><td>Perth</td><td>Australia</td><td>Coastal</td><td>UF</td><td>neutralization tank (unspecified)</td><td>ocean discharge</td></tr>\n",
      "<tr><td style=\"text-align:left\">Koksijde</td><td>West Flanders</td><td>Belgium</td><td>Coastal</td><td>UF, cartridge filtration</td><td>constructed wetland</td><td>ocean discharge</td></tr>\n",
      "<tr><td style=\"text-align:left\">Singapore</td><td>NA</td><td>Singapore</td><td>Coastal</td><td>MF</td><td>none reported</td><td>ocean discharge</td></tr>\n",
      "<tr><td style=\"text-align:left\">Durban</td><td>KwaZulu-Natal</td><td>South Africa</td><td>Coastal</td><td>MBR</td><td>none reported</td><td>ocean discharge</td></tr>\n",
      "<tr><td style=\"text-align:left\">Barcelona</td><td>Barcelona</td><td>Spain</td><td>Coastal</td><td>UF</td><td>none reported</td><td>ocean discharge</td></tr>\n",
      "<tr><td style=\"text-align:left\">El Segundo</td><td>CA</td><td>USA</td><td>Coastal</td><td>MF</td><td>none reported</td><td>ocean discharge</td></tr>\n",
      "<tr><td style=\"text-align:left\">https://www.soquelcreekwater.org/DocumentCenter/View/2074/Pure-Water-Soquel-Engineering-Report-PDF</td><td>CA</td><td>USA</td><td>Coastal</td><td>MF</td><td>none reported</td><td>ocean discharge</td></tr>\n",
      "<tr><td style=\"text-align:left\">Monterey</td><td>CA</td><td>USA</td><td>Coastal</td><td>membrane filtration (unspecified)</td><td>none reported</td><td>ocean discharge</td></tr>\n",
      "<tr><td style=\"text-align:left\">Oceanside</td><td>CA</td><td>USA</td><td>Coastal</td><td>UF</td><td>none reported</td><td>ocean discharge</td></tr>\n",
      "<tr><td style=\"text-align:left\">Oxnard</td><td>CA</td><td>USA</td><td>Coastal</td><td>MF</td><td>none reported</td><td>ocean discharge</td></tr>\n",
      "<tr><td style=\"text-align:left\">Fountain Valley</td><td>CA</td><td>USA</td><td>Coastal</td><td>MF</td><td>conventional wastewater treatment</td><td>sewer discharge</td></tr>\n",
      "<tr><td style=\"text-align:left\">Long Beach</td><td>CA</td><td>USA</td><td>Coastal</td><td>MF</td><td>conventional wastewater treatment</td><td>sewer discharge</td></tr>\n",
      "<tr><td style=\"text-align:left\">Pico Rivera</td><td>CA</td><td>USA</td><td>Coastal</td><td>UF</td><td>conventional wastewater treatment</td><td>sewer discharge</td></tr>\n",
      "<tr><td style=\"text-align:left\">San Diego</td><td>CA</td><td>USA</td><td>Coastal</td><td>UF</td><td>conventional wastewater treatment</td><td>sewer discharge</td></tr>\n",
      "<tr><td style=\"text-align:left\">Santa Monica</td><td>CA</td><td>USA</td><td>Coastal</td><td>MBR, cartridge filtration</td><td>conventional wastewater treatment</td><td>sewer discharge</td></tr>\n",
      "<tr><td style=\"text-align:left\">Santee</td><td>CA</td><td>USA</td><td>Coastal</td><td>membrane filtration (unspecified)</td><td>conventional wastewater treatment</td><td>sewer discharge</td></tr>\n",
      "<tr><td style=\"text-align:left\">Barcelona</td><td>Barcelona</td><td>Spain</td><td>Coastal</td><td>UF</td><td>none reported</td><td>surface water discharge</td></tr>\n",
      "<tr><td style=\"text-align:left\">Parañaque City</td><td>National Capital</td><td>Philippines</td><td>Coastal</td><td>UF</td><td>unknown</td><td>unknown</td></tr>\n",
      "<tr><td style=\"text-align:left\">Ballito</td><td>KwaZulu Natal</td><td>South Africa</td><td>Coastal</td><td>UF</td><td>water recovery; maturation pond</td><td>unknown</td></tr>\n",
      "<tr><td style=\"text-align:left\">Jacksonville</td><td>FL</td><td>USA</td><td>Coastal</td><td>membrane filtration (unspecified)</td><td>unknown</td><td>unknown</td></tr>\n",
      "<tr><td style=\"text-align:left\">Phoenix</td><td>AZ</td><td>USA</td><td>Inland</td><td>MBR</td><td>conventional wastewater treatment</td><td>sewer discharge</td></tr>\n",
      "<tr><td style=\"text-align:left\">Scottsdale</td><td>AZ</td><td>USA</td><td>Inland</td><td>UF</td><td>conventional wastewater treatment</td><td>sewer discharge</td></tr>\n",
      "<tr><td style=\"text-align:left\">Englewood</td><td>CO</td><td>USA</td><td>Inland</td><td>None</td><td>coagulation, MF, trickling filter</td><td>surface water discharge</td></tr>\n",
      "<tr><td style=\"text-align:left\">Abilene</td><td>TX</td><td>USA</td><td>Inland</td><td>MBR</td><td>chlorination</td><td>surface water discharge</td></tr>\n",
      "<tr><td style=\"text-align:left\">Big Spring</td><td>TX</td><td>USA</td><td>Inland</td><td>MF</td><td>none reported</td><td>surface water discharge</td></tr>\n",
      "<tr><td style=\"text-align:left\">El Paso</td><td>TX</td><td>USA</td><td>Inland</td><td>membrane filtration (unspecified)</td><td>none reported</td><td>surface water discharge</td></tr>\n",
      "<tr><td style=\"text-align:left\">Beaufort West</td><td>Western Cape</td><td>South Africa</td><td>Inland</td><td>UF</td><td>maturation pond</td><td>unknown</td></tr>\n",
      "<tr><td colspan=\"7\" style=\"border-bottom: 1px solid black\"></td></tr></table>\n"
     ]
    }
   ],
   "source": [
    "# ro table \"max_treatment_per_facility_RO\",?\n",
    "table_s3<- roc_ro[order(roc_ro$inland_coastal_40mi, roc_ro$RO_concentrate_management, roc_ro$country,roc_ro$state_region_provence,roc_ro$city_AWTP),c( \"city_AWTP\", \"state_region_provence\", \"country\", \"inland_coastal_40mi\", \"upstream_RO\", \"concentrate_treatment\", \"RO_concentrate_management\")]\n",
    "table_s3\n",
    "unique(duplicated(table_s3)) #no repeats\n",
    "\n",
    "name=\"TableS3.doc\" #name the file\n",
    "stargazer(table_s3,type=\"html\", summary=FALSE, rownames=FALSE, out=paste(path,name, sep=\"\"))"
   ]
  },
  {
   "cell_type": "markdown",
   "metadata": {},
   "source": [
    "## 4. Figures"
   ]
  },
  {
   "cell_type": "code",
   "execution_count": 11,
   "metadata": {},
   "outputs": [
    {
     "data": {
      "text/html": [
       "57"
      ],
      "text/latex": [
       "57"
      ],
      "text/markdown": [
       "57"
      ],
      "text/plain": [
       "[1] 57"
      ]
     },
     "metadata": {},
     "output_type": "display_data"
    },
    {
     "data": {
      "text/html": [
       "TRUE"
      ],
      "text/latex": [
       "TRUE"
      ],
      "text/markdown": [
       "TRUE"
      ],
      "text/plain": [
       "[1] TRUE"
      ]
     },
     "metadata": {},
     "output_type": "display_data"
    },
    {
     "data": {
      "text/html": [
       "0.508771929824561"
      ],
      "text/latex": [
       "0.508771929824561"
      ],
      "text/markdown": [
       "0.508771929824561"
      ],
      "text/plain": [
       "[1] 0.5087719"
      ]
     },
     "metadata": {},
     "output_type": "display_data"
    },
    {
     "data": {
      "text/html": [
       "29"
      ],
      "text/latex": [
       "29"
      ],
      "text/markdown": [
       "29"
      ],
      "text/plain": [
       "[1] 29"
      ]
     },
     "metadata": {},
     "output_type": "display_data"
    }
   ],
   "source": [
    "# numbers used in the manuscript\n",
    "#number of PR facilities looked into\n",
    "tot<-length(roc_inc$country)\n",
    "tot\n",
    "#percent that use RO\n",
    "yes_ro<-length(roc_inc[roc_inc$awtp_contains_RO == \"Y\",]$country)\n",
    "no_ro<-length(roc_inc[roc_inc$awtp_contains_RO == \"N\",]$country)\n",
    "yes_ro+no_ro == tot\n",
    "yes_ro/tot #percent using RO\n",
    "yes_ro"
   ]
  },
  {
   "cell_type": "code",
   "execution_count": 10,
   "metadata": {},
   "outputs": [],
   "source": [
    "#for pie charts following https://www.sthda.com/english/wiki/ggplot2-pie-chart-quick-start-guide-r-software-and-data-visualization\n",
    "\n",
    "blank_theme <- theme_minimal()+\n",
    "  theme(\n",
    "  axis.title.x = element_blank(),\n",
    "  axis.title.y = element_blank(),\n",
    "  panel.border = element_blank(),\n",
    "  panel.grid=element_blank(),\n",
    "  axis.ticks = element_blank(),\n",
    "  plot.title=element_text(size=14, face=\"bold\")\n",
    "  )"
   ]
  },
  {
   "cell_type": "code",
   "execution_count": 25,
   "metadata": {},
   "outputs": [
    {
     "data": {
      "image/png": "[encoded data removed]",
      "text/plain": [
       "plot without title"
      ]
     },
     "metadata": {
      "image/png": {
       "height": 420,
       "width": 420
      }
     },
     "output_type": "display_data"
    }
   ],
   "source": [
    "# Figure for presentation only\n",
    "\n",
    "contains_RO<-roc_inc[,\"awtp_contains_RO\"]\n",
    "contains_RO<- contains_RO %>% group_by(awtp_contains_RO) %>% summarize(value= as.numeric(n()))\n",
    "contains_RO_tot<- yes_ro+no_ro\n",
    "contains_RO$value<-(contains_RO$value/contains_RO_tot)*100\n",
    "ggplot(contains_RO, aes(x=\"\", y=value, fill=awtp_contains_RO))+\n",
    "geom_bar(width = 1, stat = \"identity\") + coord_polar(\"y\")+\n",
    "  scale_fill_viridis_d()+ blank_theme +\n",
    "  labs(fill = \"AWTP included RO\")+\n",
    "  theme(axis.text.x=element_blank(), legend.text = element_text(size=20), legend.title = element_text(size=20))+\n",
    "geom_text(aes(label = paste0(round(value), \"%\")), size=10, \n",
    "              position = position_stack(vjust = 0.5),color = c(\"white\",\"black\")) \n",
    "  \n",
    "ggsave(paste(path,\"presentation_only_1.jpg\",sep=\"\"),  units='mm',device= \"jpg\",width=max_w, height=max_w)\n",
    "\n"
   ]
  },
  {
   "cell_type": "code",
   "execution_count": 11,
   "metadata": {},
   "outputs": [
    {
     "data": {
      "text/html": [
       "30"
      ],
      "text/latex": [
       "30"
      ],
      "text/markdown": [
       "30"
      ],
      "text/plain": [
       "[1] 30"
      ]
     },
     "metadata": {},
     "output_type": "display_data"
    },
    {
     "name": "stderr",
     "output_type": "stream",
     "text": [
      "\u001b[1m\u001b[22mScale for \u001b[32msize\u001b[39m is already present.\n",
      "Adding another scale for \u001b[32msize\u001b[39m, which will replace the existing scale.\n"
     ]
    },
    {
     "data": {
      "text/html": [
       "<table class=\"dataframe\">\n",
       "<caption>A data.frame: 10 × 3</caption>\n",
       "<thead>\n",
       "\t<tr><th scope=col>inland_coastal_40mi</th><th scope=col>RO_concentrate_management</th><th scope=col>Freq</th></tr>\n",
       "\t<tr><th scope=col>&lt;fct&gt;</th><th scope=col>&lt;fct&gt;</th><th scope=col>&lt;int&gt;</th></tr>\n",
       "</thead>\n",
       "<tbody>\n",
       "\t<tr><td>Coastal</td><td>deep well injection    </td><td> 2</td></tr>\n",
       "\t<tr><td>Inland </td><td>deep well injection    </td><td> 0</td></tr>\n",
       "\t<tr><td>Coastal</td><td>ocean discharge        </td><td>11</td></tr>\n",
       "\t<tr><td>Inland </td><td>ocean discharge        </td><td> 0</td></tr>\n",
       "\t<tr><td>Coastal</td><td>sewer discharge        </td><td> 6</td></tr>\n",
       "\t<tr><td>Inland </td><td>sewer discharge        </td><td> 2</td></tr>\n",
       "\t<tr><td>Coastal</td><td>surface water discharge</td><td> 1</td></tr>\n",
       "\t<tr><td>Inland </td><td>surface water discharge</td><td> 4</td></tr>\n",
       "\t<tr><td>Coastal</td><td>unknown                </td><td> 3</td></tr>\n",
       "\t<tr><td>Inland </td><td>unknown                </td><td> 1</td></tr>\n",
       "</tbody>\n",
       "</table>\n"
      ],
      "text/latex": [
       "A data.frame: 10 × 3\n",
       "\\begin{tabular}{lll}\n",
       " inland\\_coastal\\_40mi & RO\\_concentrate\\_management & Freq\\\\\n",
       " <fct> & <fct> & <int>\\\\\n",
       "\\hline\n",
       "\t Coastal & deep well injection     &  2\\\\\n",
       "\t Inland  & deep well injection     &  0\\\\\n",
       "\t Coastal & ocean discharge         & 11\\\\\n",
       "\t Inland  & ocean discharge         &  0\\\\\n",
       "\t Coastal & sewer discharge         &  6\\\\\n",
       "\t Inland  & sewer discharge         &  2\\\\\n",
       "\t Coastal & surface water discharge &  1\\\\\n",
       "\t Inland  & surface water discharge &  4\\\\\n",
       "\t Coastal & unknown                 &  3\\\\\n",
       "\t Inland  & unknown                 &  1\\\\\n",
       "\\end{tabular}\n"
      ],
      "text/markdown": [
       "\n",
       "A data.frame: 10 × 3\n",
       "\n",
       "| inland_coastal_40mi &lt;fct&gt; | RO_concentrate_management &lt;fct&gt; | Freq &lt;int&gt; |\n",
       "|---|---|---|\n",
       "| Coastal | deep well injection     |  2 |\n",
       "| Inland  | deep well injection     |  0 |\n",
       "| Coastal | ocean discharge         | 11 |\n",
       "| Inland  | ocean discharge         |  0 |\n",
       "| Coastal | sewer discharge         |  6 |\n",
       "| Inland  | sewer discharge         |  2 |\n",
       "| Coastal | surface water discharge |  1 |\n",
       "| Inland  | surface water discharge |  4 |\n",
       "| Coastal | unknown                 |  3 |\n",
       "| Inland  | unknown                 |  1 |\n",
       "\n"
      ],
      "text/plain": [
       "   inland_coastal_40mi RO_concentrate_management Freq\n",
       "1  Coastal             deep well injection        2  \n",
       "2  Inland              deep well injection        0  \n",
       "3  Coastal             ocean discharge           11  \n",
       "4  Inland              ocean discharge            0  \n",
       "5  Coastal             sewer discharge            6  \n",
       "6  Inland              sewer discharge            2  \n",
       "7  Coastal             surface water discharge    1  \n",
       "8  Inland              surface water discharge    4  \n",
       "9  Coastal             unknown                    3  \n",
       "10 Inland              unknown                    1  "
      ]
     },
     "metadata": {},
     "output_type": "display_data"
    },
    {
     "data": {
      "image/png": "[encoded data removed]",
      "text/plain": [
       "plot without title"
      ]
     },
     "metadata": {
      "image/png": {
       "height": 420,
       "width": 420
      }
     },
     "output_type": "display_data"
    }
   ],
   "source": [
    "management<- roc_ro[,c(\"RO_concentrate_management\",\"inland_coastal_40mi\")]\n",
    "expanded_mgmt <- separate_longer_delim(management, cols = RO_concentrate_management, delim = \";\")\n",
    "expanded_mgmt[expanded_mgmt$RO_concentrate_management ==\" ocean discharge\", \"RO_concentrate_management\"] <-\"ocean discharge\"\n",
    "contingency_mgmt <- as.data.frame(t(table(expanded_mgmt)))\n",
    "contingency_mgmt$RO_concentrate_management <- factor(contingency_mgmt$RO_concentrate_management, levels = c(\"ocean discharge\", \"sewer discharge\",  \"surface water discharge\",\"deep well injection\", \"unknown\"))\n",
    "sum(contingency_mgmt$Freq) # only 29 facilities but 1 has 2 practices\n",
    "\n",
    "ggballoonplot(contingency_mgmt, fill = \"value\")+\n",
    "  scale_fill_viridis_c(option = \"C\",  breaks=c(0,3,6,9,12),limits = c(0, 12))+\n",
    "scale_size_continuous(limits = c(0, 12), range = c(0, 12), breaks=c(0, 3,6,9,12))+\n",
    "theme(axis.text.x=element_text(size=20), axis.text.y=element_text(size=20),legend.text = element_text(size=15), legend.title = element_text(size=20))\n",
    "contingency_mgmt\n",
    "  \n",
    "ggsave(paste(path,\"Figure_1.jpg\",sep=\"\"),  units='mm',device= \"jpg\",width=max_w, height=max_w)\n",
    "# ggsave(paste(path,\"Figure_1.tiff\",sep=\"\"),  units='mm',device= \"jpg\",width=max_w, height=max_w) #tiff later\n"
   ]
  },
  {
   "cell_type": "code",
   "execution_count": 12,
   "metadata": {},
   "outputs": [
    {
     "data": {
      "text/html": [
       "<table class=\"dataframe\">\n",
       "<caption>A data.frame: 10 × 3</caption>\n",
       "<thead>\n",
       "\t<tr><th scope=col>inland_coastal_40mi</th><th scope=col>RO_concentrate_management</th><th scope=col>Freq</th></tr>\n",
       "\t<tr><th scope=col>&lt;fct&gt;</th><th scope=col>&lt;fct&gt;</th><th scope=col>&lt;int&gt;</th></tr>\n",
       "</thead>\n",
       "<tbody>\n",
       "\t<tr><td>Coastal</td><td>deep well injection    </td><td> 2</td></tr>\n",
       "\t<tr><td>Inland </td><td>deep well injection    </td><td> 0</td></tr>\n",
       "\t<tr><td>Coastal</td><td>ocean discharge        </td><td>11</td></tr>\n",
       "\t<tr><td>Inland </td><td>ocean discharge        </td><td> 0</td></tr>\n",
       "\t<tr><td>Coastal</td><td>sewer discharge        </td><td> 6</td></tr>\n",
       "\t<tr><td>Inland </td><td>sewer discharge        </td><td> 2</td></tr>\n",
       "\t<tr><td>Coastal</td><td>surface water discharge</td><td> 1</td></tr>\n",
       "\t<tr><td>Inland </td><td>surface water discharge</td><td> 4</td></tr>\n",
       "\t<tr><td>Coastal</td><td>unknown                </td><td> 3</td></tr>\n",
       "\t<tr><td>Inland </td><td>unknown                </td><td> 1</td></tr>\n",
       "</tbody>\n",
       "</table>\n"
      ],
      "text/latex": [
       "A data.frame: 10 × 3\n",
       "\\begin{tabular}{lll}\n",
       " inland\\_coastal\\_40mi & RO\\_concentrate\\_management & Freq\\\\\n",
       " <fct> & <fct> & <int>\\\\\n",
       "\\hline\n",
       "\t Coastal & deep well injection     &  2\\\\\n",
       "\t Inland  & deep well injection     &  0\\\\\n",
       "\t Coastal & ocean discharge         & 11\\\\\n",
       "\t Inland  & ocean discharge         &  0\\\\\n",
       "\t Coastal & sewer discharge         &  6\\\\\n",
       "\t Inland  & sewer discharge         &  2\\\\\n",
       "\t Coastal & surface water discharge &  1\\\\\n",
       "\t Inland  & surface water discharge &  4\\\\\n",
       "\t Coastal & unknown                 &  3\\\\\n",
       "\t Inland  & unknown                 &  1\\\\\n",
       "\\end{tabular}\n"
      ],
      "text/markdown": [
       "\n",
       "A data.frame: 10 × 3\n",
       "\n",
       "| inland_coastal_40mi &lt;fct&gt; | RO_concentrate_management &lt;fct&gt; | Freq &lt;int&gt; |\n",
       "|---|---|---|\n",
       "| Coastal | deep well injection     |  2 |\n",
       "| Inland  | deep well injection     |  0 |\n",
       "| Coastal | ocean discharge         | 11 |\n",
       "| Inland  | ocean discharge         |  0 |\n",
       "| Coastal | sewer discharge         |  6 |\n",
       "| Inland  | sewer discharge         |  2 |\n",
       "| Coastal | surface water discharge |  1 |\n",
       "| Inland  | surface water discharge |  4 |\n",
       "| Coastal | unknown                 |  3 |\n",
       "| Inland  | unknown                 |  1 |\n",
       "\n"
      ],
      "text/plain": [
       "   inland_coastal_40mi RO_concentrate_management Freq\n",
       "1  Coastal             deep well injection        2  \n",
       "2  Inland              deep well injection        0  \n",
       "3  Coastal             ocean discharge           11  \n",
       "4  Inland              ocean discharge            0  \n",
       "5  Coastal             sewer discharge            6  \n",
       "6  Inland              sewer discharge            2  \n",
       "7  Coastal             surface water discharge    1  \n",
       "8  Inland              surface water discharge    4  \n",
       "9  Coastal             unknown                    3  \n",
       "10 Inland              unknown                    1  "
      ]
     },
     "metadata": {},
     "output_type": "display_data"
    }
   ],
   "source": [
    "contingency_mgmt"
   ]
  },
  {
   "cell_type": "code",
   "execution_count": 17,
   "metadata": {},
   "outputs": [
    {
     "data": {
      "text/html": [
       "31"
      ],
      "text/latex": [
       "31"
      ],
      "text/markdown": [
       "31"
      ],
      "text/plain": [
       "[1] 31"
      ]
     },
     "metadata": {},
     "output_type": "display_data"
    },
    {
     "data": {
      "image/png": "[encoded data removed]",
      "text/plain": [
       "plot without title"
      ]
     },
     "metadata": {
      "image/png": {
       "height": 420,
       "width": 420
      }
     },
     "output_type": "display_data"
    }
   ],
   "source": [
    "pretreatment<- roc_ro$upstream_RO\n",
    "\n",
    "#some contained multiple membrane pretreatment processes, so treat as multiple\n",
    "expand <- function(x) {\n",
    "  if (grepl(\",\", x)) { \n",
    "    strsplit(x, \",\")[[1]] \n",
    "  } else {\n",
    "    x \n",
    "  }\n",
    "}\n",
    "\n",
    "# Apply the function to each element of the list\n",
    "pretreatment_expanded <- unlist(lapply(pretreatment, expand))\n",
    "pretreatment_expanded_df<-as.data.frame(pretreatment_expanded)\n",
    "colnames(pretreatment_expanded_df) <- \"upstream_RO\"\n",
    "length(pretreatment_expanded)\n",
    "pretreatment_RO<- pretreatment_expanded_df %>% group_by(upstream_RO) %>% summarize(value= as.numeric(n()))\n",
    "pretreatment_RO_tot<- length(roc_inc[roc_inc$awtp_contains_RO == \"Y\",]$country)\n",
    "pretreatment_RO$value<-(pretreatment_RO$value/pretreatment_RO_tot)*100\n",
    "pretreatment_RO[pretreatment_RO$upstream_RO ==\" cartridge filtration\", \"upstream_RO\"] <-\"cartridge filtration\"\n",
    "pretreatment_RO$upstream_RO <- factor(pretreatment_RO$upstream_RO, levels = c(\"UF\", \"MF\",  \"membrane filtration (unspecified)\",\"MBR\", \"cartridge filtration\", \"None\"))\n",
    "\n",
    "\n",
    "ggplot(pretreatment_RO, aes(x=\"\", y=value, fill=upstream_RO))+\n",
    "geom_bar(width = 1, stat = \"identity\") + coord_polar(\"y\")+\n",
    "  scale_fill_viridis_d(direction=-1)+ blank_theme +\n",
    "  labs(fill = \"upstream of RO\")+\n",
    "  theme(axis.text.x=element_blank(), legend.text = element_text(size=10), legend.title = element_text(size=20))+\n",
    "geom_text(aes(label = paste0(round(value), \"%\")), \n",
    "              position = position_stack(vjust = 0.5),color = c(\"gray\", \"gray\",\"black\",\"gray\",\"black\",\"black\")) \n",
    "  \n",
    "ggsave(paste(path,\"Figure_2.jpg\",sep=\"\"),  units='mm',device= \"jpg\",width=max_w, height=max_w)\n",
    "\n"
   ]
  },
  {
   "cell_type": "code",
   "execution_count": 14,
   "metadata": {},
   "outputs": [
    {
     "data": {
      "text/html": [
       "4"
      ],
      "text/latex": [
       "4"
      ],
      "text/markdown": [
       "4"
      ],
      "text/plain": [
       "[1] 4"
      ]
     },
     "metadata": {},
     "output_type": "display_data"
    },
    {
     "data": {
      "text/html": [
       "2"
      ],
      "text/latex": [
       "2"
      ],
      "text/markdown": [
       "2"
      ],
      "text/plain": [
       "[1] 2"
      ]
     },
     "metadata": {},
     "output_type": "display_data"
    }
   ],
   "source": [
    "roc_ro$has_ozone <- grepl(\"ozone,\", roc_ro$advanced_treatment_detail_RO)\n",
    "roc_ro$has_ozone_BAF <- grepl(\"ozone/BAF\", roc_ro$advanced_treatment_detail_RO)\n",
    "sum(roc_ro$has_ozone )\n",
    "sum(roc_ro$has_ozone_BAF )"
   ]
  },
  {
   "cell_type": "code",
   "execution_count": 27,
   "metadata": {},
   "outputs": [
    {
     "data": {
      "text/plain": [
       "                                   inland_coastal_40mi\n",
       "concentrate_treatment               Coastal Inland\n",
       "   maturation pond                        1      0\n",
       "  chlorination                            0      1\n",
       "  coagulation, MF, trickling filter       0      1\n",
       "  constructed wetland                     1      0\n",
       "  conventional wastewater treatment       6      2\n",
       "  maturation pond                         0      1\n",
       "  neutralization tank (unspecified)       1      0\n",
       "  none reported                          11      2\n",
       "  unknown                                 2      0\n",
       "  water recovery                          1      0"
      ]
     },
     "metadata": {},
     "output_type": "display_data"
    }
   ],
   "source": [
    "treatment<- roc_ro[,c(\"concentrate_treatment\",\"inland_coastal_40mi\")]\n",
    "expanded_trtmt <- separate_longer_delim(treatment, cols = concentrate_treatment, delim = \";\")\n",
    "# expanded_trtmt[expanded_mgmt$concentrate_treatment ==\" ocean discharge\", \"RO_concentrate_management\"] <-\"ocean discharge\"\n",
    "contingency_trtmt <- table(expanded_trtmt)\n",
    "contingency_trtmt"
   ]
  },
  {
   "cell_type": "code",
   "execution_count": null,
   "metadata": {},
   "outputs": [],
   "source": [
    "\n"
   ]
  },
  {
   "cell_type": "code",
   "execution_count": null,
   "metadata": {},
   "outputs": [],
   "source": [
    "options(repr.plot.width = 10, repr.plot.height = 6) #change the size of the plot\n",
    "theme_set(theme_classic(base_size=12))# set font size\n",
    "\n",
    "ggplot(CA_mobility_long, aes_string(x=\"date\", y=\"percent_relative_change\", color=\"location\", shape=\"location\"))+\n",
    "    geom_point()+\n",
    "    ylab(\"percent change in mobility relative to baseline\")+\n",
    "    xlab(\"date\")+\n",
    "    theme_classic()\n",
    "# theme(theme_classic(),legend.position=\"bottom\")\n",
    "# ggsave(paste(path_fig,\"Figure_S4.pdf\",sep=\"\"),  units='mm',device= cairo_pdf,width=max_w, height=max_h/1.5)"
   ]
  },
  {
   "cell_type": "markdown",
   "metadata": {},
   "source": [
    "woah that's a bit much for one plot. Let's use facet wrap by location instead!"
   ]
  },
  {
   "cell_type": "code",
   "execution_count": null,
   "metadata": {},
   "outputs": [],
   "source": [
    "options(repr.plot.width = 12, repr.plot.height = 8) #change the size of the plot\n",
    "theme_set(theme_classic(base_size=12))# set font size\n",
    "\n",
    "ggplot(CA_mobility_long, aes_string(x=\"date\", y=\"percent_relative_change\", color=\"location\", shape=\"location\"))+\n",
    "    geom_point()+\n",
    "    ylab(\"percent change in mobility relative to baseline\")+\n",
    "    xlab(\"date\")+\n",
    "    facet_wrap(~location)+\n",
    "    theme_classic()"
   ]
  },
  {
   "cell_type": "markdown",
   "metadata": {},
   "source": [
    "Let's add a few additions to guide the eye, including:\n",
    "* Vertical line on march 19, 2020 -- roughly when shelter-in-place started in CA\n",
    "* Vertical line on June 15, 2021 --  when shelter-in-place officially ended in CA\n",
    "* Horizontal line at 0\n",
    "* Viridis colors instead of default\n",
    "* remove the legend"
   ]
  },
  {
   "cell_type": "code",
   "execution_count": null,
   "metadata": {},
   "outputs": [],
   "source": [
    "options(repr.plot.width =8, repr.plot.height = 8) #change the size of the plot\n",
    "theme_set(theme_classic(base_size=16))# set font size\n",
    "\n",
    "ggplot(CA_mobility_long, aes_string(x=\"date\", y=\"percent_relative_change\", color=\"location\", shape=\"location\"))+\n",
    "    geom_point()+\n",
    "    geom_vline(xintercept=as.Date('2020-03-19'))+\n",
    "    geom_vline(xintercept=as.Date('2021-06-15'))+\n",
    "    geom_hline(yintercept=0, linetype='dashed')+\n",
    "    ylab(\"percent change in mobility relative to baseline\")+\n",
    "    xlab(\"date\")+\n",
    "    scale_color_viridis_d()+\n",
    "    facet_wrap(~location)+\n",
    "    theme_classic()+\n",
    "    theme(legend.position= \"none\")"
   ]
  },
  {
   "cell_type": "markdown",
   "metadata": {},
   "source": [
    "Looks like there are some patterns that are hidden in these data. Let's use facet grid to compare these by county"
   ]
  },
  {
   "cell_type": "code",
   "execution_count": null,
   "metadata": {},
   "outputs": [],
   "source": [
    "options(repr.plot.width = 12, repr.plot.height = 8) #change the size of the plot\n",
    "theme_set(theme_classic(base_size=16))# set font size\n",
    "\n",
    "ggplot(CA_mobility_long, aes_string(x=\"date\", y=\"percent_relative_change\", color=\"location\", shape=\"location\"))+\n",
    "    geom_point()+\n",
    "    geom_vline(aes(xintercept=as.Date('2020-03-19')))+\n",
    "  geom_vline(xintercept=as.Date('2021-06-15'))+\n",
    "    geom_hline(aes(yintercept=0), linetype='dashed')+\n",
    "    ylab(\"percent change in mobility relative to baseline\")+\n",
    "    xlab(\"date\")+\n",
    "    scale_color_viridis_d()+\n",
    "    facet_grid(county~location)+\n",
    "    theme_classic()+\n",
    "    theme(legend.position= \"none\")"
   ]
  },
  {
   "cell_type": "markdown",
   "metadata": {},
   "source": [
    "Let's compare this to the largest counties in a state that didn't shut down, Arkansas"
   ]
  },
  {
   "cell_type": "code",
   "execution_count": null,
   "metadata": {},
   "outputs": [],
   "source": [
    "options(repr.plot.width = 12, repr.plot.height = 8) #change the size of the plot\n",
    "theme_set(theme_classic(base_size=16))# set font size\n",
    "\n",
    "a=ggplot(AK_mobility_long, aes_string(x=\"date\", y=\"percent_relative_change\", color=\"location\", shape=\"location\"))+\n",
    "    geom_point()+\n",
    "    geom_vline(aes(xintercept=as.Date('2020-03-19')))+\n",
    "     geom_vline(xintercept=as.Date('2021-06-15'))+\n",
    "    geom_hline(aes(yintercept=0), linetype='dashed')+\n",
    "    ylab(\"percent change in mobility relative to baseline\")+\n",
    "    xlab(\"date\")+\n",
    "    scale_color_viridis_d()+\n",
    "    facet_grid(county~location)+\n",
    "    theme_classic()+\n",
    "    theme(legend.position= \"none\")\n",
    "a"
   ]
  },
  {
   "cell_type": "markdown",
   "metadata": {},
   "source": [
    "Already it is clear that AK is much closer to the baseline after the initial drop for most categories. Let's see them with the same axis limits and make them into one, full-page comparison figure"
   ]
  },
  {
   "cell_type": "code",
   "execution_count": null,
   "metadata": {},
   "outputs": [],
   "source": [
    "options(repr.plot.width = 12, repr.plot.height = 12) #change the size of the plot\n",
    "\n",
    "AK_plot<-ggplot(AK_mobility_long, aes_string(x=\"date\", y=\"percent_relative_change\", color=\"location\", shape=\"location\"))+\n",
    "    geom_point(size=0.1)+\n",
    "    geom_vline(aes(xintercept=as.Date('2020-03-19')))+\n",
    "    geom_vline(xintercept=as.Date('2021-06-15'))+\n",
    "    geom_hline(aes(yintercept=0), linetype='dashed')+\n",
    "    ylab(\"Arkansas\\npercent change in mobility relative to baseline\")+\n",
    "    xlab(\"date\")+\n",
    "    scale_y_continuous(limits=c(-100,200))+\n",
    "    scale_color_viridis_d()+\n",
    "    facet_grid(county~location)+\n",
    "    theme_classic(base_size=8)+\n",
    "     theme(legend.position= \"none\", axis.text.x = element_text(angle = 45, vjust = 0.5, hjust=1))\n",
    "\n",
    "CA_plot<- ggplot(CA_mobility_long, aes_string(x=\"date\", y=\"percent_relative_change\", color=\"location\", shape=\"location\"))+\n",
    "    geom_point(size=0.1)+\n",
    "    geom_vline(aes(xintercept=as.Date('2020-03-19')))+\n",
    "     geom_vline(xintercept=as.Date('2021-06-15'))+\n",
    "    geom_hline(aes(yintercept=0), linetype='dashed')+\n",
    "    ylab(\"California\\npercent change in mobility relative to baseline\")+\n",
    "    xlab(\"date\")+\n",
    "    scale_y_continuous(limits=c(-100,200))+\n",
    "    scale_color_viridis_d()+\n",
    "    facet_grid(county~location)+\n",
    "    theme_classic(base_size=8)+\n",
    "    theme(legend.position= \"none\", axis.text.x = element_text(angle = 45, vjust = 0.5, hjust=1))"
   ]
  },
  {
   "cell_type": "code",
   "execution_count": null,
   "metadata": {},
   "outputs": [],
   "source": [
    "\n",
    "#Figure 1\n",
    "f1<-ggarrange(AK_plot, CA_plot,\n",
    "          labels = c(\"A\", \"B\"),\n",
    "           ncol = 1, nrow = 2, common.legend=TRUE)\n",
    "\n",
    "f1"
   ]
  },
  {
   "cell_type": "markdown",
   "metadata": {},
   "source": [
    "Now let's save this figure in the folder we set at the beginning."
   ]
  },
  {
   "cell_type": "code",
   "execution_count": null,
   "metadata": {},
   "outputs": [],
   "source": [
    "name=\"Figure_1.pdf\"#name the figure\n",
    "ggsave(paste(path,name,sep=\"\"), plot=f1,device= \"pdf\", units='mm', width=max_w, height=max_h)"
   ]
  },
  {
   "cell_type": "markdown",
   "metadata": {},
   "source": [
    "This is where we told ggsave to store the file (path is in step 1 and name was chosen for the figure above)"
   ]
  },
  {
   "cell_type": "code",
   "execution_count": null,
   "metadata": {},
   "outputs": [],
   "source": [
    "# paste(path,name,sep=\"\")"
   ]
  }
 ],
 "metadata": {
  "kernelspec": {
   "display_name": "R",
   "language": "R",
   "name": "ir"
  },
  "language_info": {
   "codemirror_mode": "r",
   "file_extension": ".r",
   "mimetype": "text/x-r-source",
   "name": "R",
   "pygments_lexer": "r",
   "version": "4.5.0"
  },
  "toc-autonumbering": false,
  "toc-showcode": false,
  "toc-showmarkdowntxt": false
 },
 "nbformat": 4,
 "nbformat_minor": 4
}
